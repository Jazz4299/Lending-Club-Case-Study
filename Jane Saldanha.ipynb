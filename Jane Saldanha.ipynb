{
 "cells": [
  {
   "attachments": {},
   "cell_type": "markdown",
   "metadata": {},
   "source": [
    "# Lending Club Case Study\n",
    "\n",
    "Group Members: \n",
    "\n",
    "<b>1. Jane Saldanha</b> <br>\n",
    "<b>2. Anant Kumar Pramanik</b>\n",
    "\n",
    "## Project Brief (Problem Statement)\n",
    "\n",
    "We analyze the historical loan data of a large online loan marketplace specializing in lending various kind of loans to urban customers. The objective of the analysis is to:\n",
    "\n",
    "1. Identify the driving factors behind loan defaults\n",
    "2. Identify and recommend safe loan candidates so the company doesnt incur business loss by NOT lending to those candidates.\n",
    "\n",
    "## Analysis Approach\n",
    "\n",
    "1. <b>Data Understanding</b> - \n",
    "Identify quality issues , Interpret the correct meaning of vairables (Columns)\n",
    "\n",
    "\n",
    "2. <b>Data Cleaning and Manipulation </b> - \n",
    "Data (like strings and dates) are corrected to the right type to facilitate analysis , Empty (Null) value columns and variables are removed\n",
    "\n",
    "\n",
    "3. <b>Data Analysis </b> - \n",
    "\n",
    "    a. Use <i>univariate and Segmented Univariate analysis </i>to identify atleast 5 drivers (Indicators) of defaults\n",
    "    \n",
    "    b. Create new <i>Derrived metrics</i> wherever needed (whether business driven, Type driven or Data driven) to get  new maningful business insights\n",
    "    \n",
    "    c.<i>Bivariate and Multivariate analysis</i> are done to understand combination of loan default and loan success drivers which makes business sense.\n",
    "    \n",
    "    Also <i>Plot appropriate graphs</i> with to present the results of the above types of analysis and to make it easy to draw clear insights.\n",
    "    \n",
    "    \n",
    "4. <b>Presentation and Recommendations </b> - \n",
    "A summary of the full analysis is created in a presentation format , explaining the insgihts drawn towards the default drivers and busines loss drivers with clear actionable suggestions for improvement in default reduction and slection of better loan canditates.\n",
    "\n"
   ]
  },
  {
   "cell_type": "markdown",
   "metadata": {},
   "source": [
    "## IMPORTING LIBRARIES"
   ]
  },
  {
   "cell_type": "code",
   "execution_count": null,
   "metadata": {},
   "outputs": [],
   "source": [
    "import pandas as pd\n",
    "import numpy as np\n",
    "import seaborn as sns\n",
    "import matplotlib.pyplot as plt\n",
    "import plotly.express as px\n",
    "import toolz\n",
    "from plotly.subplots import make_subplots\n",
    "import plotly.graph_objects as go\n",
    "import plotly.figure_factory as ff"
   ]
  },
  {
   "cell_type": "markdown",
   "metadata": {},
   "source": [
    "## READING AND VIEWING THE DATA"
   ]
  },
  {
   "cell_type": "code",
   "execution_count": null,
   "metadata": {},
   "outputs": [],
   "source": [
    "df = pd.read_csv('loan.csv')"
   ]
  },
  {
   "cell_type": "code",
   "execution_count": null,
   "metadata": {},
   "outputs": [],
   "source": [
    "df.head()"
   ]
  },
  {
   "cell_type": "markdown",
   "metadata": {},
   "source": [
    "## SHAPE OF THE DATAFRAME"
   ]
  },
  {
   "cell_type": "code",
   "execution_count": null,
   "metadata": {},
   "outputs": [],
   "source": [
    "df.shape"
   ]
  },
  {
   "cell_type": "markdown",
   "metadata": {},
   "source": [
    "## DATA TYPES OF THE COLUMN IN DATAFRAME"
   ]
  },
  {
   "cell_type": "code",
   "execution_count": null,
   "metadata": {},
   "outputs": [],
   "source": [
    "df.dtypes"
   ]
  },
  {
   "cell_type": "code",
   "execution_count": null,
   "metadata": {},
   "outputs": [],
   "source": [
    "## In order to view all of them we can convert them in to a dictionary\n",
    "df.dtypes.to_dict()\n",
    "# we can open the full output in a text editor using vscode"
   ]
  },
  {
   "cell_type": "markdown",
   "metadata": {},
   "source": [
    "## [IMPUTATION]:  MISSING VALUES - DROPPING COLUMNS"
   ]
  },
  {
   "cell_type": "code",
   "execution_count": null,
   "metadata": {},
   "outputs": [],
   "source": [
    "def check_percentage(df):\n",
    "    \"\"\"\n",
    "    Function to calculate the percentage of null values\n",
    "    Input: A column of the dataframe as input\n",
    "    Output: the percentage in float value\n",
    "    \"\"\"\n",
    "    status = df.isnull().sum() / len(df)\n",
    "    return status\n",
    "    "
   ]
  },
  {
   "cell_type": "code",
   "execution_count": null,
   "metadata": {},
   "outputs": [],
   "source": [
    "# dataframe to store the column name and the percentage of null for visualization\n",
    "null_df = pd.DataFrame(columns=['Name', 'Value'])\n",
    "# counter to add rows in the dataframe\n",
    "count = 0\n",
    "for col in df.columns:\n",
    "    value =  float(check_percentage(df[col])) * 100\n",
    "    print(\"The percentage of null values in the column {} are : {}\".format(col, value))\n",
    "    null_df.loc[count] = [col, value]\n",
    "    count = count + 1\n",
    "    "
   ]
  },
  {
   "cell_type": "code",
   "execution_count": null,
   "metadata": {},
   "outputs": [],
   "source": [
    "# Let's visualize this for better understanding.\n",
    "null_fig = px.treemap(null_df, path=['Name'], values='Value')\n",
    "null_fig.show()"
   ]
  },
  {
   "cell_type": "markdown",
   "metadata": {},
   "source": [
    "As we can see from the tree map that there are many columns which are 100% null which have no use to us for further analysis. But we cannot get a clear analysis on the rest of the null value percentages so we will now proceed with a histogram"
   ]
  },
  {
   "cell_type": "code",
   "execution_count": null,
   "metadata": {},
   "outputs": [],
   "source": [
    "fig = px.histogram(null_df, x=\"Value\", range_x=[0, 100])\n",
    "fig.show()"
   ]
  },
  {
   "cell_type": "markdown",
   "metadata": {},
   "source": [
    "As we can see in the plots above that there are over :\n",
    "1. 56 columns that have more than 90% null values\n",
    "\n",
    "2. One column in the range of 30% to 49% null values\n",
    "\n",
    "3. One column in the range of 50% to 69% null values\n",
    "\n",
    "4. 53 columns in the range of 0 to 9% null values\n",
    "\n",
    "### Removing all the columns that have more than 50% null values"
   ]
  },
  {
   "cell_type": "code",
   "execution_count": null,
   "metadata": {},
   "outputs": [],
   "source": [
    "df = df[null_df[null_df['Value']< 50]['Name'].values]"
   ]
  },
  {
   "cell_type": "code",
   "execution_count": null,
   "metadata": {},
   "outputs": [],
   "source": [
    "print(\"The shape of the dataframe now is {}\".format(df.shape))"
   ]
  },
  {
   "cell_type": "code",
   "execution_count": null,
   "metadata": {},
   "outputs": [],
   "source": [
    "df.columns"
   ]
  },
  {
   "cell_type": "markdown",
   "metadata": {},
   "source": [
    "## [IMPUTATION]: MISSING VALUES  - FILLING ROWS"
   ]
  },
  {
   "cell_type": "code",
   "execution_count": null,
   "metadata": {},
   "outputs": [],
   "source": [
    "# the columns that still have null values \n",
    "df.columns[df.isnull().any()].tolist()"
   ]
  },
  {
   "cell_type": "markdown",
   "metadata": {},
   "source": [
    "Let's deal with the rest of the columns one by one"
   ]
  },
  {
   "cell_type": "markdown",
   "metadata": {},
   "source": [
    "### EMP_TITLE"
   ]
  },
  {
   "cell_type": "code",
   "execution_count": null,
   "metadata": {},
   "outputs": [],
   "source": [
    "df['emp_title'].unique()"
   ]
  },
  {
   "cell_type": "markdown",
   "metadata": {},
   "source": [
    "Replacing nan with Unknown"
   ]
  },
  {
   "cell_type": "code",
   "execution_count": null,
   "metadata": {},
   "outputs": [],
   "source": [
    "df['emp_title'] = df['emp_title'].replace(np.nan, \"Unknown\")"
   ]
  },
  {
   "cell_type": "markdown",
   "metadata": {},
   "source": [
    "### EMP_LENGTH"
   ]
  },
  {
   "cell_type": "code",
   "execution_count": null,
   "metadata": {},
   "outputs": [],
   "source": [
    "## Removing non number characters from emp_length column\n",
    "df['emp_length'] = df['emp_length'].replace({'< 1 year':'0'},regex=True)\n",
    "df['emp_length'] = df['emp_length'].replace({'10+ years':'10'})\n",
    "df['emp_length']= df['emp_length'].replace({'year':''}, regex=True)\n",
    "df['emp_length'] = df['emp_length'].replace({'s':''},regex=True)\n",
    "df['emp_length'].fillna('0', inplace=True)"
   ]
  },
  {
   "cell_type": "code",
   "execution_count": null,
   "metadata": {},
   "outputs": [],
   "source": [
    "df['emp_length'].unique()"
   ]
  },
  {
   "cell_type": "markdown",
   "metadata": {},
   "source": [
    "### Desc"
   ]
  },
  {
   "cell_type": "code",
   "execution_count": null,
   "metadata": {},
   "outputs": [],
   "source": [
    "df.shape"
   ]
  },
  {
   "cell_type": "code",
   "execution_count": null,
   "metadata": {},
   "outputs": [],
   "source": [
    "df['desc'].isna().sum() / 39717"
   ]
  },
  {
   "cell_type": "code",
   "execution_count": null,
   "metadata": {},
   "outputs": [],
   "source": [
    "df[df['desc'] == ' '].shape"
   ]
  },
  {
   "cell_type": "markdown",
   "metadata": {},
   "source": [
    "Dropping this column since it does not have any significant need in the analysis.  A lot of the rows are nan and blank and it does not make sense to be replaced by the mode "
   ]
  },
  {
   "cell_type": "code",
   "execution_count": null,
   "metadata": {},
   "outputs": [],
   "source": [
    "df.drop(['desc'], axis=1, inplace=True)"
   ]
  },
  {
   "cell_type": "markdown",
   "metadata": {},
   "source": [
    "### pub_rec_bankrupcies"
   ]
  },
  {
   "cell_type": "code",
   "execution_count": null,
   "metadata": {},
   "outputs": [],
   "source": [
    "df['pub_rec_bankruptcies'].mode()"
   ]
  },
  {
   "cell_type": "markdown",
   "metadata": {},
   "source": [
    "Replacing the nan values with the mode"
   ]
  },
  {
   "cell_type": "code",
   "execution_count": null,
   "metadata": {},
   "outputs": [],
   "source": [
    "df['pub_rec_bankruptcies'] = df['pub_rec_bankruptcies'].replace(np.nan, 0)"
   ]
  },
  {
   "cell_type": "code",
   "execution_count": null,
   "metadata": {},
   "outputs": [],
   "source": [
    "df['pub_rec_bankruptcies'] = df['pub_rec_bankruptcies'].astype('str')"
   ]
  },
  {
   "cell_type": "markdown",
   "metadata": {},
   "source": [
    "### TITLE"
   ]
  },
  {
   "cell_type": "markdown",
   "metadata": {},
   "source": [
    "The column **title** is the loan title provided by the borrower. Lets see the kind of values that are provided"
   ]
  },
  {
   "cell_type": "markdown",
   "metadata": {},
   "source": [
    "Checking the percentage of each title to understand if it makes sense to substitute the na values with mode or drop them"
   ]
  },
  {
   "cell_type": "code",
   "execution_count": null,
   "metadata": {},
   "outputs": [],
   "source": [
    "def percent(x):\n",
    "    return (x/df.shape[0]) * 100\n",
    "#print(toolz.valmap(percent, df['title'].value_counts().to_dict()))\n",
    "# remove comments in the end"
   ]
  },
  {
   "cell_type": "markdown",
   "metadata": {},
   "source": [
    " we will drop the titles that have NA values because they cannot be necessarily be replaced by the mode. "
   ]
  },
  {
   "cell_type": "code",
   "execution_count": null,
   "metadata": {},
   "outputs": [],
   "source": [
    "df = df[df['title'].isna() == False]"
   ]
  },
  {
   "cell_type": "code",
   "execution_count": null,
   "metadata": {},
   "outputs": [],
   "source": [
    "print(\"Shape of the dataframe is : {}\".format(df.shape))"
   ]
  },
  {
   "cell_type": "markdown",
   "metadata": {},
   "source": [
    "### REVOL UTIL"
   ]
  },
  {
   "cell_type": "markdown",
   "metadata": {},
   "source": [
    "Let's look in to the column **revol_util**: Revolving utilization compares your credit debt to your total credit limit. To calculate it, divided your balance by your credit limit. example: you have 2000 usd on a credit card and a 5k limit on it. your util is 40% if you have a second credit card with 5k limit but no debt then your util is 20%\n",
    "\n",
    "\n",
    "Revolving credit is an agreement that permits an account holder to borrow money repeatedly up to a set dollar limit while repaying a portion of current balance due in regular payments"
   ]
  },
  {
   "cell_type": "code",
   "execution_count": null,
   "metadata": {},
   "outputs": [],
   "source": [
    "df[df['revol_util'].isna() == True].shape"
   ]
  },
  {
   "cell_type": "markdown",
   "metadata": {},
   "source": [
    "As we can see we have 50 null values in revol util, we need to either replace them or drop them."
   ]
  },
  {
   "cell_type": "markdown",
   "metadata": {},
   "source": [
    "Cleaning the revolving utilization column by removing the percentage and turning it into float.\n"
   ]
  },
  {
   "cell_type": "markdown",
   "metadata": {},
   "source": [
    "Filling the null values with mean of the column"
   ]
  },
  {
   "cell_type": "code",
   "execution_count": null,
   "metadata": {},
   "outputs": [],
   "source": [
    "mean_revol_util = df[df['revol_util'].isna() == False]['revol_util'].apply(lambda x: float(x[:-1])).mean()\n",
    "mean_revol_util = str(mean_revol_util) + \"%\""
   ]
  },
  {
   "cell_type": "code",
   "execution_count": null,
   "metadata": {},
   "outputs": [],
   "source": [
    "df['revol_util'].fillna(value=mean_revol_util, inplace=True)"
   ]
  },
  {
   "cell_type": "markdown",
   "metadata": {},
   "source": [
    "### LAST_PYMNT_D"
   ]
  },
  {
   "cell_type": "markdown",
   "metadata": {},
   "source": [
    "Consider the 3rd column  **last_pymnt_d** : it consists of the month and the date. Let's check the distribution of the last payment date."
   ]
  },
  {
   "cell_type": "code",
   "execution_count": null,
   "metadata": {},
   "outputs": [],
   "source": [
    "def viz(df, col_name):\n",
    "    \"\"\"\n",
    "    Visualizing the frequency count for  a column\n",
    "    \"\"\"\n",
    "    last_payment_viz = df[col_name].value_counts().to_frame()\n",
    "    last_payment_viz.reset_index(inplace=True)\n",
    "    return last_payment_viz\n",
    "    #px.bar(last_payment_viz, x=\"index\", y=col_name)"
   ]
  },
  {
   "cell_type": "code",
   "execution_count": null,
   "metadata": {},
   "outputs": [],
   "source": [
    "df['last_pymnt_d'].isna().sum()"
   ]
  },
  {
   "cell_type": "markdown",
   "metadata": {},
   "source": [
    "There are 71 rows with last payment date as null"
   ]
  },
  {
   "cell_type": "code",
   "execution_count": null,
   "metadata": {},
   "outputs": [],
   "source": [
    "last_payment_viz = viz(df, 'last_pymnt_d')\n",
    "px.bar(last_payment_viz, x=\"index\", y='last_pymnt_d')"
   ]
  },
  {
   "cell_type": "markdown",
   "metadata": {},
   "source": [
    "As we can see that majority of the last payment dates happen on May 16th."
   ]
  },
  {
   "cell_type": "markdown",
   "metadata": {},
   "source": [
    "We can replace the null values by the mode of the column"
   ]
  },
  {
   "cell_type": "code",
   "execution_count": null,
   "metadata": {},
   "outputs": [],
   "source": [
    "df['last_pymnt_d'].fillna(df['last_pymnt_d'].mode()[0], inplace=True)"
   ]
  },
  {
   "cell_type": "markdown",
   "metadata": {},
   "source": [
    "### LAST CREDIT PULL D"
   ]
  },
  {
   "attachments": {},
   "cell_type": "markdown",
   "metadata": {},
   "source": [
    "Consider the column **last_credit_pull_d** : The most recent month Lending Club pulled credit for this loan\n",
    "\n"
   ]
  },
  {
   "cell_type": "code",
   "execution_count": null,
   "metadata": {},
   "outputs": [],
   "source": [
    "df['last_credit_pull_d'].isna().sum()"
   ]
  },
  {
   "cell_type": "markdown",
   "metadata": {},
   "source": [
    "There are 2 null values in the column"
   ]
  },
  {
   "cell_type": "code",
   "execution_count": null,
   "metadata": {},
   "outputs": [],
   "source": [
    "last_credit_viz = viz(df, 'last_credit_pull_d')\n",
    "px.bar(last_credit_viz, x=\"index\", y='last_credit_pull_d')"
   ]
  },
  {
   "cell_type": "markdown",
   "metadata": {},
   "source": [
    "As we can see that majority of the last credit was pulled at May 16 so the we can now fill null values with mode"
   ]
  },
  {
   "cell_type": "code",
   "execution_count": null,
   "metadata": {},
   "outputs": [],
   "source": [
    "df['last_credit_pull_d'].fillna(df['last_credit_pull_d'].mode()[0], inplace=True)"
   ]
  },
  {
   "cell_type": "markdown",
   "metadata": {},
   "source": [
    "### COLLECTIONS_12_MTHS_EX_MED"
   ]
  },
  {
   "cell_type": "markdown",
   "metadata": {},
   "source": [
    "Meaning: Number of collections in 12 months excluding medical collections\n",
    "\n",
    "A debt that has “gone to collections” means that the debt (a loan, credit card, line of credit or even unpaid bills) has gone unpaid for a significant amount of time, and is typically more than 90 days overdue"
   ]
  },
  {
   "cell_type": "code",
   "execution_count": null,
   "metadata": {},
   "outputs": [],
   "source": [
    "df['collections_12_mths_ex_med'].isna().sum()"
   ]
  },
  {
   "cell_type": "markdown",
   "metadata": {},
   "source": [
    "There are 56 null values in this column.\n",
    " \n",
    "Let's see the kind of values that are present"
   ]
  },
  {
   "cell_type": "code",
   "execution_count": null,
   "metadata": {},
   "outputs": [],
   "source": [
    "df['collections_12_mths_ex_med'].unique()"
   ]
  },
  {
   "cell_type": "markdown",
   "metadata": {},
   "source": [
    "There are two values 0 and nan we can replace the nan values with 0 "
   ]
  },
  {
   "cell_type": "code",
   "execution_count": null,
   "metadata": {},
   "outputs": [],
   "source": [
    "df['collections_12_mths_ex_med'].fillna(0, inplace=True)"
   ]
  },
  {
   "cell_type": "markdown",
   "metadata": {},
   "source": [
    "### CHARGEOFF_WITHIN_12_MTHS"
   ]
  },
  {
   "cell_type": "markdown",
   "metadata": {},
   "source": [
    "Meaning: Number of charge-offs within 12 months\n",
    "\n",
    "A charge-off is a debt, for example on a credit card, that is deemed unlikely to be collected by the creditor because the borrower has become substantially delinquent after a period of time. However, a charge-off does not mean a write-off of the debt entirely. Having a charge-off can mean serious repercussions on your credit history and future borrowing ability."
   ]
  },
  {
   "cell_type": "code",
   "execution_count": null,
   "metadata": {},
   "outputs": [],
   "source": [
    "print(\"There are {} null values.\".format(df['chargeoff_within_12_mths'].isna().sum()))"
   ]
  },
  {
   "cell_type": "code",
   "execution_count": null,
   "metadata": {},
   "outputs": [],
   "source": [
    "df['chargeoff_within_12_mths'].unique()"
   ]
  },
  {
   "cell_type": "markdown",
   "metadata": {},
   "source": [
    "There are two types of values 0 and nan and we will replace nan with 0"
   ]
  },
  {
   "cell_type": "code",
   "execution_count": null,
   "metadata": {},
   "outputs": [],
   "source": [
    "df['chargeoff_within_12_mths'].fillna(0, inplace=True)"
   ]
  },
  {
   "cell_type": "markdown",
   "metadata": {},
   "source": [
    "### TAX_LIENS"
   ]
  },
  {
   "cell_type": "markdown",
   "metadata": {},
   "source": [
    "Description: Number of tax liens\n",
    "\n",
    "A tax lien is a legal claim against the property of an individual or business that fails to pay taxes owed to the government"
   ]
  },
  {
   "cell_type": "code",
   "execution_count": null,
   "metadata": {},
   "outputs": [],
   "source": [
    "df['tax_liens'].unique()"
   ]
  },
  {
   "cell_type": "markdown",
   "metadata": {},
   "source": [
    "Filling the null values with 0"
   ]
  },
  {
   "cell_type": "code",
   "execution_count": null,
   "metadata": {},
   "outputs": [],
   "source": [
    "df['tax_liens'].fillna(0, inplace=True)"
   ]
  },
  {
   "cell_type": "markdown",
   "metadata": {},
   "source": [
    "Checking for null values"
   ]
  },
  {
   "cell_type": "code",
   "execution_count": null,
   "metadata": {},
   "outputs": [],
   "source": [
    "df.isnull().sum()"
   ]
  },
  {
   "attachments": {},
   "cell_type": "markdown",
   "metadata": {},
   "source": [
    "### Pub Rec\n",
    "Number of derogatory public records"
   ]
  },
  {
   "cell_type": "code",
   "execution_count": null,
   "metadata": {},
   "outputs": [],
   "source": [
    "df['pub_rec'].unique()"
   ]
  },
  {
   "attachments": {},
   "cell_type": "markdown",
   "metadata": {},
   "source": [
    "Converting these into str format so that they remain as categorical variable"
   ]
  },
  {
   "cell_type": "code",
   "execution_count": null,
   "metadata": {},
   "outputs": [],
   "source": [
    "df['pub_rec'] = df['pub_rec'].astype(str)"
   ]
  },
  {
   "cell_type": "markdown",
   "metadata": {},
   "source": [
    "There are no more null values in the dataframe"
   ]
  },
  {
   "cell_type": "markdown",
   "metadata": {},
   "source": [
    "## CHECKING THE DATAFRAME FOR DUPLICATE ROWS"
   ]
  },
  {
   "cell_type": "code",
   "execution_count": null,
   "metadata": {},
   "outputs": [],
   "source": [
    "duplicate = df[df.duplicated()]\n",
    "print(duplicate.shape)"
   ]
  },
  {
   "cell_type": "markdown",
   "metadata": {},
   "source": [
    "There are no duplicate rows"
   ]
  },
  {
   "cell_type": "markdown",
   "metadata": {},
   "source": [
    "## [DATA CLEANING] : CHANGING THE DATA TYPES OF THE COLUMN AND TAILORING THE DATA AS PER NEED"
   ]
  },
  {
   "cell_type": "code",
   "execution_count": null,
   "metadata": {},
   "outputs": [],
   "source": [
    "#Dropping member id and id as they have no significant contribution to the analysis\n",
    "df2 = df.drop(['id', 'member_id'], axis=1)"
   ]
  },
  {
   "cell_type": "markdown",
   "metadata": {},
   "source": [
    "Let's review every column one by one for data cleaning"
   ]
  },
  {
   "cell_type": "markdown",
   "metadata": {},
   "source": [
    "### Loan Amount"
   ]
  },
  {
   "cell_type": "markdown",
   "metadata": {},
   "source": [
    " The listed amount of the loan applied for by the borrower. If at some point in time, the credit department reduces the loan amount, then it will be reflected in this value."
   ]
  },
  {
   "cell_type": "code",
   "execution_count": null,
   "metadata": {},
   "outputs": [],
   "source": [
    "df2['loan_amnt'].dtype"
   ]
  },
  {
   "cell_type": "markdown",
   "metadata": {},
   "source": [
    "No changes in this column"
   ]
  },
  {
   "cell_type": "markdown",
   "metadata": {},
   "source": [
    "### Funded Amount"
   ]
  },
  {
   "cell_type": "markdown",
   "metadata": {},
   "source": [
    "The total amount committed to that loan at that point in time."
   ]
  },
  {
   "cell_type": "code",
   "execution_count": null,
   "metadata": {},
   "outputs": [],
   "source": [
    "df2['funded_amnt'].dtype"
   ]
  },
  {
   "cell_type": "markdown",
   "metadata": {},
   "source": [
    "###  Funded Amount Inv"
   ]
  },
  {
   "cell_type": "markdown",
   "metadata": {},
   "source": [
    "The total amount committed by investors for that loan at that point in time."
   ]
  },
  {
   "cell_type": "code",
   "execution_count": null,
   "metadata": {},
   "outputs": [],
   "source": [
    "df2['funded_amnt_inv'].dtype"
   ]
  },
  {
   "cell_type": "markdown",
   "metadata": {},
   "source": [
    "### Term"
   ]
  },
  {
   "cell_type": "markdown",
   "metadata": {},
   "source": [
    "The number of payments on the loan. Values are in months and can be either 36 or 60."
   ]
  },
  {
   "cell_type": "code",
   "execution_count": null,
   "metadata": {},
   "outputs": [],
   "source": [
    "df2['term'].dtype"
   ]
  },
  {
   "cell_type": "markdown",
   "metadata": {},
   "source": [
    "It is of type object let's see how this could be modified to useful information"
   ]
  },
  {
   "cell_type": "markdown",
   "metadata": {},
   "source": [
    "Changes that can be done on this column is removal of the months and retrieving the months in integer format"
   ]
  },
  {
   "cell_type": "code",
   "execution_count": null,
   "metadata": {},
   "outputs": [],
   "source": [
    "df2['term'] = df2['term'].apply(lambda x: str(x.strip()[:2]))"
   ]
  },
  {
   "cell_type": "code",
   "execution_count": null,
   "metadata": {},
   "outputs": [],
   "source": [
    "df2['term'].dtype"
   ]
  },
  {
   "cell_type": "markdown",
   "metadata": {},
   "source": [
    "### Int_rate"
   ]
  },
  {
   "cell_type": "markdown",
   "metadata": {},
   "source": [
    "Interest Rate on the loan"
   ]
  },
  {
   "cell_type": "code",
   "execution_count": null,
   "metadata": {},
   "outputs": [],
   "source": [
    "df2['int_rate'].dtype"
   ]
  },
  {
   "cell_type": "markdown",
   "metadata": {},
   "source": [
    "We can change this column by removing the percentage from the end of the value and turn into float"
   ]
  },
  {
   "cell_type": "code",
   "execution_count": null,
   "metadata": {},
   "outputs": [],
   "source": [
    "df2['int_rate'] = df2['int_rate'].apply(lambda x: float(x[:-1]))"
   ]
  },
  {
   "cell_type": "markdown",
   "metadata": {},
   "source": [
    "### Installment"
   ]
  },
  {
   "cell_type": "markdown",
   "metadata": {},
   "source": [
    "The monthly payment owed by the borrower if the loan originates."
   ]
  },
  {
   "cell_type": "code",
   "execution_count": null,
   "metadata": {},
   "outputs": [],
   "source": [
    "df2['installment'].dtype"
   ]
  },
  {
   "cell_type": "markdown",
   "metadata": {},
   "source": [
    "No changes required"
   ]
  },
  {
   "cell_type": "markdown",
   "metadata": {},
   "source": [
    "### Grade"
   ]
  },
  {
   "cell_type": "markdown",
   "metadata": {},
   "source": [
    "LC assigned loan grade"
   ]
  },
  {
   "cell_type": "code",
   "execution_count": null,
   "metadata": {},
   "outputs": [],
   "source": [
    "df2['grade'].unique()"
   ]
  },
  {
   "cell_type": "markdown",
   "metadata": {},
   "source": [
    "These are the different grades present. For Exploratory Data Analysis, we do not need to replace the values"
   ]
  },
  {
   "cell_type": "markdown",
   "metadata": {},
   "source": [
    "### Sub_grade"
   ]
  },
  {
   "cell_type": "markdown",
   "metadata": {},
   "source": [
    "LC assigned loan subgrade"
   ]
  },
  {
   "cell_type": "code",
   "execution_count": null,
   "metadata": {},
   "outputs": [],
   "source": [
    "df2['sub_grade'].unique()"
   ]
  },
  {
   "cell_type": "markdown",
   "metadata": {},
   "source": [
    "For each grade there are various subgrades ranging from value 1 to 5"
   ]
  },
  {
   "cell_type": "markdown",
   "metadata": {},
   "source": [
    "### Home_Ownership"
   ]
  },
  {
   "cell_type": "code",
   "execution_count": null,
   "metadata": {},
   "outputs": [],
   "source": [
    "df2['home_ownership'].unique()"
   ]
  },
  {
   "cell_type": "markdown",
   "metadata": {},
   "source": [
    "As we can see here the various kinds of home ownerships are rent , own , mortgage , other and none.\n",
    "None should not be replaced because not everyone owns a home. No  change required in this column"
   ]
  },
  {
   "cell_type": "markdown",
   "metadata": {},
   "source": [
    "### Annual Income"
   ]
  },
  {
   "cell_type": "markdown",
   "metadata": {},
   "source": [
    "The self-reported annual income provided by the borrower during registration."
   ]
  },
  {
   "cell_type": "code",
   "execution_count": null,
   "metadata": {},
   "outputs": [],
   "source": [
    "df2['annual_inc'].dtype"
   ]
  },
  {
   "cell_type": "markdown",
   "metadata": {},
   "source": [
    "No change required in this column"
   ]
  },
  {
   "cell_type": "markdown",
   "metadata": {},
   "source": [
    "### verification_status "
   ]
  },
  {
   "cell_type": "code",
   "execution_count": null,
   "metadata": {},
   "outputs": [],
   "source": [
    "df2['verification_status'].unique()"
   ]
  },
  {
   "cell_type": "markdown",
   "metadata": {},
   "source": [
    "There are 3 values for this column verified, source verified and not verified"
   ]
  },
  {
   "cell_type": "markdown",
   "metadata": {},
   "source": [
    "### Issue Date"
   ]
  },
  {
   "cell_type": "markdown",
   "metadata": {},
   "source": [
    "\n",
    "The month which the loan was funded"
   ]
  },
  {
   "cell_type": "code",
   "execution_count": null,
   "metadata": {},
   "outputs": [],
   "source": [
    "df2['issue_d'].unique()"
   ]
  },
  {
   "cell_type": "markdown",
   "metadata": {},
   "source": [
    "We can see that the values are a string with month and year given. So we can break down this column into two seperate columns"
   ]
  },
  {
   "cell_type": "code",
   "execution_count": null,
   "metadata": {},
   "outputs": [],
   "source": [
    "df2['issue_month'] = df2['issue_d'].apply(lambda x: x.split(\"-\")[0])"
   ]
  },
  {
   "cell_type": "code",
   "execution_count": null,
   "metadata": {},
   "outputs": [],
   "source": [
    "df2['issue_year'] = df2['issue_d'].apply(lambda x: int(\"20\" + x.split(\"-\")[1]))"
   ]
  },
  {
   "cell_type": "markdown",
   "metadata": {},
   "source": [
    "After splitting these columns we can drop the issue_d column"
   ]
  },
  {
   "cell_type": "code",
   "execution_count": null,
   "metadata": {},
   "outputs": [],
   "source": [
    "df2 = df2.drop(['issue_d'], axis=1)"
   ]
  },
  {
   "cell_type": "markdown",
   "metadata": {},
   "source": [
    "### loan_status "
   ]
  },
  {
   "cell_type": "markdown",
   "metadata": {},
   "source": [
    "Current status of the loan"
   ]
  },
  {
   "cell_type": "code",
   "execution_count": null,
   "metadata": {},
   "outputs": [],
   "source": [
    "df2['loan_status'].unique()"
   ]
  },
  {
   "cell_type": "markdown",
   "metadata": {},
   "source": [
    "No changes in the column"
   ]
  },
  {
   "cell_type": "markdown",
   "metadata": {},
   "source": [
    "### Payment plans"
   ]
  },
  {
   "cell_type": "markdown",
   "metadata": {},
   "source": [
    "Indicates if a payment plan has been put in place for the loan"
   ]
  },
  {
   "cell_type": "code",
   "execution_count": null,
   "metadata": {},
   "outputs": [],
   "source": [
    "df2['pymnt_plan'].unique()"
   ]
  },
  {
   "cell_type": "markdown",
   "metadata": {},
   "source": [
    "Just has the value n"
   ]
  },
  {
   "cell_type": "markdown",
   "metadata": {},
   "source": [
    "### url"
   ]
  },
  {
   "cell_type": "code",
   "execution_count": null,
   "metadata": {},
   "outputs": [],
   "source": [
    "df2['url']"
   ]
  },
  {
   "cell_type": "markdown",
   "metadata": {},
   "source": [
    "We can drop this column because the url does not have any significant contribution for the analysis"
   ]
  },
  {
   "cell_type": "code",
   "execution_count": null,
   "metadata": {},
   "outputs": [],
   "source": [
    "df2.drop(['url'], axis=1, inplace=True)"
   ]
  },
  {
   "cell_type": "markdown",
   "metadata": {},
   "source": [
    "### Purpose"
   ]
  },
  {
   "cell_type": "markdown",
   "metadata": {},
   "source": [
    "A category provided by the borrower for the loan request. "
   ]
  },
  {
   "cell_type": "code",
   "execution_count": null,
   "metadata": {},
   "outputs": [],
   "source": [
    "df['purpose'].unique()"
   ]
  },
  {
   "cell_type": "markdown",
   "metadata": {},
   "source": [
    "No changes in column for exploratory data analysis"
   ]
  },
  {
   "cell_type": "markdown",
   "metadata": {},
   "source": [
    "### Title"
   ]
  },
  {
   "cell_type": "code",
   "execution_count": null,
   "metadata": {},
   "outputs": [],
   "source": [
    "df2['title'].unique()"
   ]
  },
  {
   "cell_type": "code",
   "execution_count": null,
   "metadata": {},
   "outputs": [],
   "source": [
    "print(\"The number of different titles are {}\".format(len(df2['title'].unique())))"
   ]
  },
  {
   "cell_type": "markdown",
   "metadata": {},
   "source": [
    "### zip_code   "
   ]
  },
  {
   "cell_type": "code",
   "execution_count": null,
   "metadata": {},
   "outputs": [],
   "source": [
    "df2['zip_code'].unique()"
   ]
  },
  {
   "cell_type": "markdown",
   "metadata": {},
   "source": [
    "The xx value in the end is to mask the data so removing it for further analysis"
   ]
  },
  {
   "cell_type": "code",
   "execution_count": null,
   "metadata": {},
   "outputs": [],
   "source": [
    "df2['zip_code'] = df2['zip_code'].apply(lambda x: int(x[:-2]))"
   ]
  },
  {
   "cell_type": "markdown",
   "metadata": {},
   "source": [
    "### addr_state"
   ]
  },
  {
   "cell_type": "markdown",
   "metadata": {},
   "source": [
    "The state provided by the borrower in the loan application"
   ]
  },
  {
   "cell_type": "code",
   "execution_count": null,
   "metadata": {},
   "outputs": [],
   "source": [
    "df2['addr_state'].unique()"
   ]
  },
  {
   "cell_type": "markdown",
   "metadata": {},
   "source": [
    "No changes in the addr state"
   ]
  },
  {
   "cell_type": "markdown",
   "metadata": {},
   "source": [
    "### dti"
   ]
  },
  {
   "cell_type": "markdown",
   "metadata": {},
   "source": [
    "A ratio calculated using the borrower’s total monthly debt payments on the total debt obligations, excluding mortgage and the requested LC loan, divided by the borrower’s self-reported monthly income.\n",
    "\n",
    "\n",
    "A DTI of 43% is typically the highest ratio a borrower can have and still get qualified for a mortgage, but lenders generally seek ratios of no more than 36%"
   ]
  },
  {
   "cell_type": "code",
   "execution_count": null,
   "metadata": {},
   "outputs": [],
   "source": [
    "df2['dti'].describe()"
   ]
  },
  {
   "cell_type": "markdown",
   "metadata": {},
   "source": [
    "No change in the column"
   ]
  },
  {
   "cell_type": "markdown",
   "metadata": {},
   "source": [
    "\n",
    "### delinq_2yrs"
   ]
  },
  {
   "cell_type": "markdown",
   "metadata": {},
   "source": [
    "The number of 30+ days past-due incidences of delinquency in the borrower's credit file for the past 2 years\n",
    "\n",
    "The delinquency rate refers to the percentage of loans that are past due. It indicates the quality of a lending company’s or a bank’s loan portfolio."
   ]
  },
  {
   "cell_type": "code",
   "execution_count": null,
   "metadata": {},
   "outputs": [],
   "source": [
    "df2['delinq_2yrs'].unique()"
   ]
  },
  {
   "cell_type": "markdown",
   "metadata": {},
   "source": [
    "No changes in the column"
   ]
  },
  {
   "cell_type": "markdown",
   "metadata": {},
   "source": [
    "### earliest_cr_line"
   ]
  },
  {
   "cell_type": "markdown",
   "metadata": {},
   "source": [
    "\n",
    "The month the borrower's earliest reported credit line was opened"
   ]
  },
  {
   "cell_type": "code",
   "execution_count": null,
   "metadata": {},
   "outputs": [],
   "source": [
    "def year_change(x):\n",
    "    year_end = int(x.split(\"-\")[1])\n",
    "    if year_end > 20:\n",
    "        return int(str(19) + str(year_end))\n",
    "    else:\n",
    "        return int(str(200) + str(year_end))"
   ]
  },
  {
   "cell_type": "code",
   "execution_count": null,
   "metadata": {},
   "outputs": [],
   "source": [
    "df2['earliest_cr_line_month'] = df2['earliest_cr_line'].apply(lambda x: x.split(\"-\")[0])\n",
    "df2['earliest_cr_line_month_year'] = df2['earliest_cr_line'].apply(lambda x: year_change(x))"
   ]
  },
  {
   "cell_type": "code",
   "execution_count": null,
   "metadata": {},
   "outputs": [],
   "source": [
    "df2.drop(['earliest_cr_line'], axis=1, inplace=True)"
   ]
  },
  {
   "cell_type": "markdown",
   "metadata": {},
   "source": [
    "### inq_last_6mths"
   ]
  },
  {
   "cell_type": "markdown",
   "metadata": {},
   "source": [
    "The number of inquiries in past 6 months (excluding auto and mortgage inquiries)"
   ]
  },
  {
   "cell_type": "code",
   "execution_count": null,
   "metadata": {},
   "outputs": [],
   "source": [
    "df2['inq_last_6mths'].unique()"
   ]
  },
  {
   "cell_type": "markdown",
   "metadata": {},
   "source": [
    "No changes in the columns"
   ]
  },
  {
   "cell_type": "markdown",
   "metadata": {},
   "source": [
    "### open_acc"
   ]
  },
  {
   "cell_type": "markdown",
   "metadata": {},
   "source": [
    "The number of open credit lines in the borrower's credit file."
   ]
  },
  {
   "cell_type": "code",
   "execution_count": null,
   "metadata": {},
   "outputs": [],
   "source": [
    "df2['open_acc'].unique()"
   ]
  },
  {
   "cell_type": "markdown",
   "metadata": {},
   "source": [
    "No changes in this column"
   ]
  },
  {
   "cell_type": "markdown",
   "metadata": {},
   "source": [
    "### pub_rec"
   ]
  },
  {
   "cell_type": "markdown",
   "metadata": {},
   "source": [
    "Number of derogatory public records\n",
    "\n"
   ]
  },
  {
   "cell_type": "code",
   "execution_count": null,
   "metadata": {},
   "outputs": [],
   "source": [
    "df2['pub_rec'].unique()"
   ]
  },
  {
   "cell_type": "code",
   "execution_count": null,
   "metadata": {},
   "outputs": [],
   "source": [
    "df2['pub_rec']"
   ]
  },
  {
   "cell_type": "markdown",
   "metadata": {},
   "source": [
    "No changes in pub_rec col"
   ]
  },
  {
   "cell_type": "markdown",
   "metadata": {},
   "source": [
    "\n",
    "### revol_bal"
   ]
  },
  {
   "cell_type": "markdown",
   "metadata": {},
   "source": [
    "Total credit revolving balance\n"
   ]
  },
  {
   "cell_type": "code",
   "execution_count": null,
   "metadata": {},
   "outputs": [],
   "source": [
    "df2['revol_bal']"
   ]
  },
  {
   "cell_type": "markdown",
   "metadata": {},
   "source": [
    "No changes in column"
   ]
  },
  {
   "cell_type": "markdown",
   "metadata": {},
   "source": [
    "\n",
    "### revol_util"
   ]
  },
  {
   "cell_type": "code",
   "execution_count": null,
   "metadata": {},
   "outputs": [],
   "source": [
    "df2['revol_util'] = df2['revol_util'].apply(lambda x: float(x[:-1]))"
   ]
  },
  {
   "cell_type": "markdown",
   "metadata": {},
   "source": [
    "Removed the % of the column and turned it into float"
   ]
  },
  {
   "cell_type": "markdown",
   "metadata": {},
   "source": [
    "### total_acc"
   ]
  },
  {
   "cell_type": "markdown",
   "metadata": {},
   "source": [
    "The total number of credit lines currently in the borrower's credit file\n"
   ]
  },
  {
   "cell_type": "code",
   "execution_count": null,
   "metadata": {},
   "outputs": [],
   "source": [
    "df2['total_acc'].unique()"
   ]
  },
  {
   "cell_type": "markdown",
   "metadata": {},
   "source": [
    "No changes in the column"
   ]
  },
  {
   "cell_type": "markdown",
   "metadata": {},
   "source": [
    "### initial_list_status"
   ]
  },
  {
   "cell_type": "markdown",
   "metadata": {},
   "source": [
    "The initial listing status of the loan. Possible values are – W, F\n",
    "\n"
   ]
  },
  {
   "cell_type": "code",
   "execution_count": null,
   "metadata": {},
   "outputs": [],
   "source": [
    "df2['initial_list_status'].unique()"
   ]
  },
  {
   "cell_type": "markdown",
   "metadata": {},
   "source": [
    "Has only one value; no change as of now"
   ]
  },
  {
   "cell_type": "markdown",
   "metadata": {},
   "source": [
    "### out_prncp"
   ]
  },
  {
   "cell_type": "markdown",
   "metadata": {},
   "source": [
    "Remaining outstanding principal for total amount funded\n",
    "\n"
   ]
  },
  {
   "cell_type": "code",
   "execution_count": null,
   "metadata": {},
   "outputs": [],
   "source": [
    "df2['out_prncp'].unique()"
   ]
  },
  {
   "cell_type": "markdown",
   "metadata": {},
   "source": [
    "No change in column\n"
   ]
  },
  {
   "cell_type": "markdown",
   "metadata": {},
   "source": [
    "\n",
    "### out_prncp_inv"
   ]
  },
  {
   "cell_type": "markdown",
   "metadata": {},
   "source": [
    "Remaining outstanding principal for portion of total amount funded by investors\n"
   ]
  },
  {
   "cell_type": "code",
   "execution_count": null,
   "metadata": {},
   "outputs": [],
   "source": [
    "df2['out_prncp_inv'].unique()"
   ]
  },
  {
   "cell_type": "markdown",
   "metadata": {},
   "source": [
    "No change in column"
   ]
  },
  {
   "cell_type": "markdown",
   "metadata": {},
   "source": [
    "\n",
    "### total_pymnt"
   ]
  },
  {
   "cell_type": "markdown",
   "metadata": {},
   "source": [
    "Payments received to date for total amount funded\n",
    "\n"
   ]
  },
  {
   "cell_type": "code",
   "execution_count": null,
   "metadata": {},
   "outputs": [],
   "source": [
    "df2['total_pymnt']\n"
   ]
  },
  {
   "cell_type": "markdown",
   "metadata": {},
   "source": [
    "No changes in column"
   ]
  },
  {
   "cell_type": "markdown",
   "metadata": {},
   "source": [
    "### total_pymnt_inv"
   ]
  },
  {
   "cell_type": "markdown",
   "metadata": {},
   "source": [
    "Payments received to date for portion of total amount funded by investors\n"
   ]
  },
  {
   "cell_type": "code",
   "execution_count": null,
   "metadata": {},
   "outputs": [],
   "source": [
    "df2['total_pymnt_inv']"
   ]
  },
  {
   "cell_type": "markdown",
   "metadata": {},
   "source": [
    "No changes in column"
   ]
  },
  {
   "cell_type": "markdown",
   "metadata": {},
   "source": [
    "### total_rec_prncp"
   ]
  },
  {
   "cell_type": "markdown",
   "metadata": {},
   "source": [
    "Principal received to date\n"
   ]
  },
  {
   "cell_type": "code",
   "execution_count": null,
   "metadata": {},
   "outputs": [],
   "source": [
    "df2['total_rec_prncp']"
   ]
  },
  {
   "cell_type": "markdown",
   "metadata": {},
   "source": [
    "No changes in column"
   ]
  },
  {
   "cell_type": "markdown",
   "metadata": {},
   "source": [
    "### total_rec_int"
   ]
  },
  {
   "cell_type": "markdown",
   "metadata": {},
   "source": [
    "Interest received to date\n"
   ]
  },
  {
   "cell_type": "code",
   "execution_count": null,
   "metadata": {},
   "outputs": [],
   "source": [
    "df2['total_rec_int']"
   ]
  },
  {
   "cell_type": "markdown",
   "metadata": {},
   "source": [
    "No changes in column"
   ]
  },
  {
   "cell_type": "markdown",
   "metadata": {},
   "source": [
    "\n",
    "### total_rec_late_fee"
   ]
  },
  {
   "cell_type": "markdown",
   "metadata": {},
   "source": [
    "Late fees received to date\n"
   ]
  },
  {
   "cell_type": "code",
   "execution_count": null,
   "metadata": {},
   "outputs": [],
   "source": [
    "df2['total_rec_late_fee']"
   ]
  },
  {
   "cell_type": "markdown",
   "metadata": {},
   "source": [
    "No changes in column"
   ]
  },
  {
   "cell_type": "markdown",
   "metadata": {},
   "source": [
    "### recoveries"
   ]
  },
  {
   "cell_type": "markdown",
   "metadata": {},
   "source": [
    "post charge off gross recovery\n"
   ]
  },
  {
   "cell_type": "code",
   "execution_count": null,
   "metadata": {},
   "outputs": [],
   "source": [
    "df2['recoveries']"
   ]
  },
  {
   "cell_type": "markdown",
   "metadata": {},
   "source": [
    "No changes in column"
   ]
  },
  {
   "cell_type": "markdown",
   "metadata": {},
   "source": [
    "### collection_recovery_fee"
   ]
  },
  {
   "cell_type": "markdown",
   "metadata": {},
   "source": [
    "post charge off collection fee\n",
    "\n"
   ]
  },
  {
   "cell_type": "code",
   "execution_count": null,
   "metadata": {},
   "outputs": [],
   "source": [
    "df2['collection_recovery_fee']"
   ]
  },
  {
   "cell_type": "markdown",
   "metadata": {},
   "source": [
    "No changes in the column"
   ]
  },
  {
   "cell_type": "markdown",
   "metadata": {},
   "source": [
    "### last_pymnt_d"
   ]
  },
  {
   "cell_type": "markdown",
   "metadata": {},
   "source": [
    "Last month payment was received\n"
   ]
  },
  {
   "cell_type": "code",
   "execution_count": null,
   "metadata": {},
   "outputs": [],
   "source": [
    "df2['last_pymnt_d'].unique()"
   ]
  },
  {
   "cell_type": "code",
   "execution_count": null,
   "metadata": {},
   "outputs": [],
   "source": [
    "df2['last_payment_month'] = df2['last_pymnt_d'].apply(lambda x: x.split(\"-\")[0])"
   ]
  },
  {
   "cell_type": "markdown",
   "metadata": {},
   "source": [
    "Dropping the last payment d column "
   ]
  },
  {
   "cell_type": "code",
   "execution_count": null,
   "metadata": {},
   "outputs": [],
   "source": [
    "df2.drop(['last_pymnt_d'], axis=1, inplace=True)"
   ]
  },
  {
   "cell_type": "markdown",
   "metadata": {},
   "source": [
    "### last_pymnt_amnt"
   ]
  },
  {
   "cell_type": "markdown",
   "metadata": {},
   "source": [
    "Last total payment amount received\n"
   ]
  },
  {
   "cell_type": "code",
   "execution_count": null,
   "metadata": {},
   "outputs": [],
   "source": [
    "df2['last_pymnt_amnt']"
   ]
  },
  {
   "cell_type": "markdown",
   "metadata": {},
   "source": [
    "No change in column"
   ]
  },
  {
   "cell_type": "markdown",
   "metadata": {},
   "source": [
    "### last_credit_pull_d"
   ]
  },
  {
   "cell_type": "markdown",
   "metadata": {},
   "source": [
    "The most recent month LC pulled credit for this loan\n"
   ]
  },
  {
   "cell_type": "code",
   "execution_count": null,
   "metadata": {},
   "outputs": [],
   "source": [
    "df2['last_credit_pull_d'] = df2['last_credit_pull_d'].apply(lambda x: x.split(\"-\")[0])"
   ]
  },
  {
   "cell_type": "markdown",
   "metadata": {},
   "source": [
    "### collections_12_mths_ex_med"
   ]
  },
  {
   "cell_type": "code",
   "execution_count": null,
   "metadata": {},
   "outputs": [],
   "source": [
    "df2['collections_12_mths_ex_med'].unique()"
   ]
  },
  {
   "cell_type": "markdown",
   "metadata": {},
   "source": [
    "Drop the column since it has one value "
   ]
  },
  {
   "cell_type": "markdown",
   "metadata": {},
   "source": [
    "### policy_code"
   ]
  },
  {
   "cell_type": "markdown",
   "metadata": {},
   "source": [
    "\"publicly available policy_code=1\n",
    "\n",
    "new products not publicly available policy_code=2\"\n"
   ]
  },
  {
   "cell_type": "code",
   "execution_count": null,
   "metadata": {},
   "outputs": [],
   "source": [
    "df2['policy_code'].unique()"
   ]
  },
  {
   "cell_type": "markdown",
   "metadata": {},
   "source": [
    "Drop column since one value only"
   ]
  },
  {
   "cell_type": "markdown",
   "metadata": {},
   "source": [
    "### application_type"
   ]
  },
  {
   "cell_type": "code",
   "execution_count": null,
   "metadata": {},
   "outputs": [],
   "source": [
    "df2[\"application_type\"].unique()"
   ]
  },
  {
   "cell_type": "markdown",
   "metadata": {},
   "source": [
    "drop the columns that has one value"
   ]
  },
  {
   "cell_type": "markdown",
   "metadata": {},
   "source": [
    "### acc_now_delinq "
   ]
  },
  {
   "cell_type": "code",
   "execution_count": null,
   "metadata": {},
   "outputs": [],
   "source": [
    "\n",
    "df2['acc_now_delinq'].unique()"
   ]
  },
  {
   "cell_type": "markdown",
   "metadata": {},
   "source": [
    "Drop the column"
   ]
  },
  {
   "cell_type": "markdown",
   "metadata": {},
   "source": [
    "### chargeoff_within_12_mths "
   ]
  },
  {
   "cell_type": "code",
   "execution_count": null,
   "metadata": {},
   "outputs": [],
   "source": [
    "df2['chargeoff_within_12_mths'].unique()"
   ]
  },
  {
   "cell_type": "markdown",
   "metadata": {},
   "source": [
    "drop the column since it has only one value "
   ]
  },
  {
   "cell_type": "markdown",
   "metadata": {},
   "source": [
    "### delinq_amnt "
   ]
  },
  {
   "cell_type": "code",
   "execution_count": null,
   "metadata": {},
   "outputs": [],
   "source": [
    "df2['delinq_amnt'].unique()"
   ]
  },
  {
   "cell_type": "markdown",
   "metadata": {},
   "source": [
    "drop the column"
   ]
  },
  {
   "cell_type": "markdown",
   "metadata": {},
   "source": [
    "\n",
    "### tax_liens"
   ]
  },
  {
   "cell_type": "code",
   "execution_count": null,
   "metadata": {},
   "outputs": [],
   "source": [
    "df2['tax_liens'].unique()"
   ]
  },
  {
   "cell_type": "markdown",
   "metadata": {},
   "source": [
    "Dropping the column"
   ]
  },
  {
   "cell_type": "markdown",
   "metadata": {},
   "source": [
    "### As we observed few of the columns have only one value. \n",
    "\n",
    "Hence dropping those columns"
   ]
  },
  {
   "cell_type": "code",
   "execution_count": null,
   "metadata": {},
   "outputs": [],
   "source": [
    "df2.columns[df2.nunique() <= 1]"
   ]
  },
  {
   "cell_type": "markdown",
   "metadata": {},
   "source": [
    "Dropping the columns"
   ]
  },
  {
   "cell_type": "code",
   "execution_count": null,
   "metadata": {},
   "outputs": [],
   "source": [
    "df2 = df2[df2.columns[df2.nunique() > 1]]"
   ]
  },
  {
   "cell_type": "code",
   "execution_count": null,
   "metadata": {},
   "outputs": [],
   "source": [
    "df2.shape"
   ]
  },
  {
   "cell_type": "markdown",
   "metadata": {},
   "source": [
    "## [DATA CLEANING]: OUTLIER REMOVAL"
   ]
  },
  {
   "cell_type": "code",
   "execution_count": null,
   "metadata": {},
   "outputs": [],
   "source": [
    "#ig = go.Figure(data=[go.Histogram(x=df2['loan_amnt'])])\n",
    "#fig.show()\n",
    "fig = make_subplots(rows=7, cols=4,\n",
    "subplot_titles=tuple(df2._get_numeric_data().columns))\n",
    "row = 1\n",
    "col = 1\n",
    "for i in df2._get_numeric_data().columns:\n",
    "    fig.add_trace(go.Histogram(x=df2[i]),\n",
    "     row = row, col = col)\n",
    "    if col % 4 == 0:\n",
    "        row = row + 1\n",
    "        col = 1\n",
    "    else:\n",
    "        col = col + 1\n",
    "# Overlay both histograms\n",
    "fig.update_layout(barmode='overlay', width=800,\n",
    "    height=2000)\n",
    "# Reduce opacity to see both histograms\n",
    "fig.update_traces(opacity=0.75)\n",
    "fig.show()"
   ]
  },
  {
   "cell_type": "markdown",
   "metadata": {},
   "source": [
    "If we see that majority of the columns are skewed either to the left or the right."
   ]
  },
  {
   "cell_type": "markdown",
   "metadata": {},
   "source": [
    "We can use IQR to remove outliers"
   ]
  },
  {
   "cell_type": "markdown",
   "metadata": {},
   "source": [
    "Plotting the box plots to check the outliers"
   ]
  },
  {
   "cell_type": "code",
   "execution_count": null,
   "metadata": {},
   "outputs": [],
   "source": [
    "vars = df2._get_numeric_data().columns\n",
    "fig = make_subplots(rows=7, cols=4)\n",
    "row = 1\n",
    "col = 1\n",
    "for i, var in enumerate(vars):\n",
    "    \n",
    "    fig.add_trace(\n",
    "        go.Box(y=df2[var],\n",
    "        name=var),\n",
    "        row=row, col=col\n",
    "    )\n",
    "    if col % 4 == 0:\n",
    "        row = row + 1\n",
    "        col = 1\n",
    "    else:\n",
    "        col = col + 1\n",
    "\n",
    "fig.update_traces(jitter=.3)\n",
    "fig.update_layout(\n",
    "    autosize=False,\n",
    "    width=800,\n",
    "    height=2000)"
   ]
  },
  {
   "cell_type": "markdown",
   "metadata": {},
   "source": [
    "The dots above are the outliers\n"
   ]
  },
  {
   "cell_type": "code",
   "execution_count": null,
   "metadata": {},
   "outputs": [],
   "source": [
    "def drop_outliers(df):\n",
    "    \"\"\"\n",
    "    Calculating the outliers and returning the indexes\n",
    "    \"\"\"\n",
    "    quartile_one = df.quantile(0.25)\n",
    "    quartile_three = df.quantile(0.75)\n",
    "    iqr = quartile_three - quartile_one\n",
    "    index = ~((df<(quartile_one-1.5*iqr)) | (df>(quartile_three+1.5*iqr)))\n",
    "    return index\n",
    "    "
   ]
  },
  {
   "cell_type": "code",
   "execution_count": null,
   "metadata": {},
   "outputs": [],
   "source": [
    "li = list(range(0, df2.shape[0]))\n",
    "\n",
    "# Create a DataFrame index object\n",
    "# using pd.Index() function\n",
    "idx = pd.Index(li)\n",
    "\n",
    "# Set the above DataFrame index object as the index\n",
    "# using set_index() function\n",
    "df2 = df2.set_index(idx)"
   ]
  },
  {
   "cell_type": "code",
   "execution_count": null,
   "metadata": {},
   "outputs": [],
   "source": [
    "def drop_check_outlier(fig, df2, col_name, row_value, col_value):\n",
    "    \"\"\"\n",
    "    Filtering the dataframe via indexes and plotting the box plots.\n",
    "    \"\"\"\n",
    "    x = drop_outliers(df2[col_name])\n",
    "    df2 = df2[x]\n",
    "    li = list(range(0, df2.shape[0]))\n",
    "    idx = pd.Index(li)\n",
    "    df2 = df2.set_index(idx)\n",
    "    fig.add_trace(\n",
    "                go.Box(y=df2[col],\n",
    "                name=col),\n",
    "                row=row_value, col=col_value\n",
    "        )\n",
    "\n",
    "    return fig, df2"
   ]
  },
  {
   "cell_type": "code",
   "execution_count": null,
   "metadata": {},
   "outputs": [],
   "source": [
    "row_value = 1\n",
    "col_value = 1\n",
    "fig = make_subplots(rows=9, cols=4)\n",
    "for col in df2._get_numeric_data().columns:\n",
    "    fig, df2 = drop_check_outlier(fig, df2, col, row_value, col_value)\n",
    "    fig.update_traces(jitter=.3)\n",
    "    if col_value % 4 == 0:\n",
    "                row_value = row_value + 1\n",
    "                col_value = 1\n",
    "    else:\n",
    "                col_value = col_value + 1\n",
    "fig.update_layout(\n",
    "                autosize=False,\n",
    "                width=1000,\n",
    "                height=2000)"
   ]
  },
  {
   "cell_type": "markdown",
   "metadata": {},
   "source": [
    "As we can see in boxplots, there are few columns which have just one value. \n",
    "\n",
    "Dropping those columns as they do not have signficance"
   ]
  },
  {
   "cell_type": "code",
   "execution_count": null,
   "metadata": {},
   "outputs": [],
   "source": [
    "df2 = df2[df2.columns[df2.nunique() > 1]]"
   ]
  },
  {
   "cell_type": "code",
   "execution_count": null,
   "metadata": {},
   "outputs": [],
   "source": [
    "print(\"Final Shape of the DataFrame {}\".format(df2.shape))"
   ]
  },
  {
   "cell_type": "code",
   "execution_count": null,
   "metadata": {},
   "outputs": [],
   "source": [
    "df2.columns"
   ]
  },
  {
   "cell_type": "markdown",
   "metadata": {},
   "source": [
    "## UNIVARIATE ANALYSIS"
   ]
  },
  {
   "cell_type": "markdown",
   "metadata": {},
   "source": [
    "To understand the distribution of the columns present"
   ]
  },
  {
   "cell_type": "code",
   "execution_count": null,
   "metadata": {},
   "outputs": [],
   "source": [
    "df2.shape"
   ]
  },
  {
   "cell_type": "code",
   "execution_count": null,
   "metadata": {},
   "outputs": [],
   "source": [
    "df2.head()"
   ]
  },
  {
   "cell_type": "markdown",
   "metadata": {},
   "source": [
    "Let's check the columns present "
   ]
  },
  {
   "cell_type": "code",
   "execution_count": null,
   "metadata": {},
   "outputs": [],
   "source": [
    "df2.columns"
   ]
  },
  {
   "cell_type": "markdown",
   "metadata": {},
   "source": [
    "### Loan Amount"
   ]
  },
  {
   "cell_type": "markdown",
   "metadata": {},
   "source": [
    "Let's analyze the Loan amount that was applied for by the customers"
   ]
  },
  {
   "cell_type": "code",
   "execution_count": null,
   "metadata": {},
   "outputs": [],
   "source": [
    "df2['loan_amnt'].describe()"
   ]
  },
  {
   "cell_type": "code",
   "execution_count": null,
   "metadata": {},
   "outputs": [],
   "source": [
    "fig = px.histogram(df2, x=\"loan_amnt\", title=\"Frequency of the Loan Amount\")\n",
    "fig.show()"
   ]
  },
  {
   "cell_type": "markdown",
   "metadata": {},
   "source": [
    "As we can see in the bar plot and describe function output:\n",
    "1. The max number of applicants have applied for 10k USD Loan\n",
    "2. The second max number of applicants have applied for loan from 6k to 6.2k\n",
    "3. The max loan applied for by the applicant is 28k USD"
   ]
  },
  {
   "cell_type": "markdown",
   "metadata": {},
   "source": [
    "### Employee Length"
   ]
  },
  {
   "cell_type": "markdown",
   "metadata": {},
   "source": [
    "Understanding the distribution of employee length in the dataset"
   ]
  },
  {
   "cell_type": "code",
   "execution_count": null,
   "metadata": {},
   "outputs": [],
   "source": [
    "df2['emp_length'].unique()"
   ]
  },
  {
   "cell_type": "code",
   "execution_count": null,
   "metadata": {},
   "outputs": [],
   "source": [
    "df_emp = df2['emp_length'].value_counts().to_frame()\n",
    "df_emp = df_emp.reset_index()\n",
    "df_emp.columns = [\"emp_length\", \"Count\"]"
   ]
  },
  {
   "cell_type": "code",
   "execution_count": null,
   "metadata": {},
   "outputs": [],
   "source": [
    "fig = px.bar(df_emp, x=\"emp_length\", y=\"Count\", title=\"Frequency of employee length\", color_discrete_sequence=['darkgreen'])\n",
    "fig.show()"
   ]
  },
  {
   "cell_type": "markdown",
   "metadata": {},
   "source": [
    "We can see that most of the loans were given to employee with more than 10 years experience \n",
    "\n",
    "The possiblity of giving people with less than 1 year experience loans is the factor of age, high earning job positions and ability to pay loan faster because of lack of family responsbilities relatively."
   ]
  },
  {
   "cell_type": "markdown",
   "metadata": {},
   "source": [
    "### Number of derogatory public records\n"
   ]
  },
  {
   "cell_type": "code",
   "execution_count": null,
   "metadata": {},
   "outputs": [],
   "source": [
    "df2.columns"
   ]
  },
  {
   "cell_type": "markdown",
   "metadata": {},
   "source": [
    "### TERM"
   ]
  },
  {
   "cell_type": "markdown",
   "metadata": {},
   "source": [
    "Let's analyze the term column and understand the kind of terms the bank allows"
   ]
  },
  {
   "cell_type": "code",
   "execution_count": null,
   "metadata": {},
   "outputs": [],
   "source": [
    "df_term = df2['term'].value_counts().to_frame()"
   ]
  },
  {
   "cell_type": "code",
   "execution_count": null,
   "metadata": {},
   "outputs": [],
   "source": [
    "df_term = df_term.reset_index()\n",
    "df_term.columns = [\"term\", \"Count\"]"
   ]
  },
  {
   "cell_type": "code",
   "execution_count": null,
   "metadata": {},
   "outputs": [],
   "source": [
    "fig = px.pie(df_term,values = \"Count\", names=\"term\", hole=.3, title = \"Frequncy of the loan terms\")\n",
    "fig.show()"
   ]
  },
  {
   "cell_type": "markdown",
   "metadata": {},
   "source": [
    "We can see that the bank gives 36 months term  74.6% more than 60 months term. \n"
   ]
  },
  {
   "cell_type": "markdown",
   "metadata": {},
   "source": [
    "### INT_RATE"
   ]
  },
  {
   "cell_type": "markdown",
   "metadata": {},
   "source": [
    "Let's now analyze the **int_rate** column"
   ]
  },
  {
   "cell_type": "code",
   "execution_count": null,
   "metadata": {},
   "outputs": [],
   "source": [
    "df2['int_rate'].describe()"
   ]
  },
  {
   "cell_type": "code",
   "execution_count": null,
   "metadata": {},
   "outputs": [],
   "source": [
    "df2['int_rate'].mode()"
   ]
  },
  {
   "cell_type": "code",
   "execution_count": null,
   "metadata": {},
   "outputs": [],
   "source": [
    "group_labels = ['int_rate'] # name of the dataset\n",
    "fig = ff.create_distplot([df2['int_rate']], group_labels, colors=['green'])\n",
    "fig.update_layout(width=800,\n",
    "    height=1000, title=\"Interest Rate sanctioned by the bank\")\n",
    "fig.show()"
   ]
  },
  {
   "cell_type": "markdown",
   "metadata": {},
   "source": [
    "Majority of the loans that the bank gives has a rate of interest of 7.5% and maximum the rate of interest given is 22.11%"
   ]
  },
  {
   "cell_type": "markdown",
   "metadata": {},
   "source": [
    "### INSTALLEMENT"
   ]
  },
  {
   "cell_type": "code",
   "execution_count": null,
   "metadata": {},
   "outputs": [],
   "source": [
    "fig = px.histogram(df2, x=\"installment\",  color_discrete_sequence=['indianred'], nbins=10, title=\"Installments owed by the borrower\")\n",
    "fig.update_layout(height=800)\n",
    "fig.show()"
   ]
  },
  {
   "cell_type": "markdown",
   "metadata": {},
   "source": [
    "As we can see the majority of the borrowers gave 100 to 200 usd as an installement, followed by 200 to 300 usd and very few people gave 700 to 800 usd as an installment\n",
    "\n",
    "\n"
   ]
  },
  {
   "cell_type": "markdown",
   "metadata": {},
   "source": [
    "### GRADE AND SUBGRADE"
   ]
  },
  {
   "cell_type": "markdown",
   "metadata": {},
   "source": [
    "Analyzing the grade and the subgrade assigned by the bank"
   ]
  },
  {
   "cell_type": "code",
   "execution_count": null,
   "metadata": {},
   "outputs": [],
   "source": [
    "grade_df = df2['grade'].value_counts().to_frame()"
   ]
  },
  {
   "cell_type": "code",
   "execution_count": null,
   "metadata": {},
   "outputs": [],
   "source": [
    "grade_df.reset_index(inplace=True)\n"
   ]
  },
  {
   "cell_type": "code",
   "execution_count": null,
   "metadata": {},
   "outputs": [],
   "source": [
    "grade_df.columns = ['grade', 'count']"
   ]
  },
  {
   "cell_type": "code",
   "execution_count": null,
   "metadata": {},
   "outputs": [],
   "source": [
    "\n",
    "fig = px.bar(grade_df, x=\"count\", y = \"grade\",  color_discrete_sequence=['teal'])\n",
    "fig.update_layout(title=\"Count of the  grade assigned to the Loan applications\")\n",
    "fig.show()"
   ]
  },
  {
   "cell_type": "markdown",
   "metadata": {},
   "source": [
    "Loan grades are set based on both borrower's credit profile and the nature of the contract. 'A' grade loan represent the lowest risk while G represents the highest risk. \n",
    "\n",
    "The borrower's credit profile are set based on these metrics: \n",
    "\n",
    "        1. Financial Sale:  Assessment of the company's size by turnover.\n",
    "\n",
    "        2. Liquidity: Assesment of company's liquidity position, based on last available historical financial statements.\n",
    "\n",
    "        3. leverage: Assessment of the company's leverage positiion using Net Debt/ Equity ratio\n",
    "\n",
    "        4. Operation Performance\n",
    "        \n",
    "        5.Management Expertise"
   ]
  },
  {
   "cell_type": "markdown",
   "metadata": {},
   "source": [
    "From the graph we can see that the bank has given out loans that are least riskiest more and this count keeps decreasing with the increasing risk."
   ]
  },
  {
   "cell_type": "markdown",
   "metadata": {},
   "source": [
    "Let's analyze if the same trend applies for subgrade"
   ]
  },
  {
   "cell_type": "code",
   "execution_count": null,
   "metadata": {},
   "outputs": [],
   "source": [
    "sub_grade_df = df2['sub_grade'].value_counts().to_frame()\n",
    "sub_grade_df.reset_index(inplace=True)\n",
    "sub_grade_df.columns = ['sub_grade', 'count']\n",
    "fig = px.bar(sub_grade_df, x=\"count\", y = \"sub_grade\",  color_discrete_sequence=['rosybrown'], text_auto=True)\n",
    "fig.update_layout(width=800, height=1000, title=\"Count of the  sub grade assigned to the Loan applications\")\n",
    "fig.show()"
   ]
  },
  {
   "cell_type": "markdown",
   "metadata": {},
   "source": [
    "The subcategory A4 is the most used in LC.  We can see that the A and B category are used a lot and are in a very close to eachother in number due to the low priority risk. \n",
    "If we notice rest of the categories for example C, E, F and G, we see that the subcategory 1 is used a lot more than 2 and 3 and so on. \n",
    "With this pattern we can say that 1 is the least riskier than maybe 2 and 3. \n",
    "\n",
    "Now sometimes it is possible that people apply for a loan and it is deemed a little more riskier than the other.\n",
    "\n",
    "For example, a loan to pay the medical bills and loan to buy a car. \n",
    "\n",
    "Lot of people who do not have the credit will apply for loan since it is more urgent than say a car since car could be still considered as a luxury in a lot of places.\n"
   ]
  },
  {
   "cell_type": "markdown",
   "metadata": {},
   "source": [
    "### HOME OWNERSHIP"
   ]
  },
  {
   "cell_type": "code",
   "execution_count": null,
   "metadata": {},
   "outputs": [],
   "source": [
    "home_ownership_df = df2['home_ownership'].value_counts().to_frame()\n",
    "home_ownership_df.reset_index(inplace=True)\n",
    "home_ownership_df.columns = ['home_ownership', 'count']\n",
    "fig = px.pie(home_ownership_df, values=\"count\", names = \"home_ownership\", color_discrete_sequence=px.colors.sequential.RdBu)\n",
    "fig.update_layout(title=\"Home Ownership status of the applicants\")\n",
    "fig.show()"
   ]
  },
  {
   "cell_type": "markdown",
   "metadata": {},
   "source": [
    "Majority of the borrower's whose loans were approved were living in rented appartment. \n",
    "\n",
    "The next highest clientele are the people who have put their houses on mortgage followed by people who own homes.\n",
    "\n",
    "People who own homes usually signifies a sign of stability and financial wealth which means they would not need as many loans as the rest but this also makes them the safest people to approve the loans too.\n",
    "\n",
    "We have a small percentage of clientele in the other section"
   ]
  },
  {
   "cell_type": "markdown",
   "metadata": {},
   "source": [
    "### Annual Income"
   ]
  },
  {
   "cell_type": "markdown",
   "metadata": {},
   "source": [
    "Understanding the column using statistical methods"
   ]
  },
  {
   "cell_type": "code",
   "execution_count": null,
   "metadata": {},
   "outputs": [],
   "source": [
    "df2['annual_inc'].describe()"
   ]
  },
  {
   "cell_type": "markdown",
   "metadata": {},
   "source": [
    "Using a histogram to plot"
   ]
  },
  {
   "cell_type": "code",
   "execution_count": null,
   "metadata": {},
   "outputs": [],
   "source": [
    "fig = px.histogram(df2, x=\"annual_inc\",  color_discrete_sequence=['indianred'], nbins=20, title=\"Annual Income of the loan applicants\")\n",
    "fig.update_layout(height=800)\n",
    "fig.show()"
   ]
  },
  {
   "cell_type": "markdown",
   "metadata": {},
   "source": [
    "As we can see that majority of the applicants are with in the 40k to 50k bracket. \n",
    "\n",
    "There are very few applicants that are above 100k and marginally low people who earn in the range of 0 to 10k\n",
    "\n",
    "The people who apply for loans are those who cannot afford huge amounts right at the moment but have the potential to pay at certain point in the future ( in installements)./\n",
    "\n",
    "As the annual income increases the number of the loan applicant decreases in step wise nature\n",
    "\n",
    "If you check the trend for less than 30k, there are not many applicants probably because the bank rejected their applicants as they were not suitable candidates or the customers knew the couldnt pay the loan off."
   ]
  },
  {
   "cell_type": "markdown",
   "metadata": {},
   "source": [
    "\n",
    "### verification_status"
   ]
  },
  {
   "cell_type": "code",
   "execution_count": null,
   "metadata": {},
   "outputs": [],
   "source": [
    "df2['verification_status'].unique()"
   ]
  },
  {
   "cell_type": "code",
   "execution_count": null,
   "metadata": {},
   "outputs": [],
   "source": [
    "verification_status_df = df2['verification_status'].value_counts().to_frame()\n",
    "verification_status_df.reset_index(inplace=True)\n",
    "verification_status_df.columns = ['verification_status', 'count']\n",
    "fig = px.pie(verification_status_df, values='count', names='verification_status', color_discrete_sequence=px.colors.sequential.YlGnBu_r)\n",
    "fig.update_layout(title=\"Verification status of the applicants\")\n",
    "fig.show()"
   ]
  },
  {
   "cell_type": "markdown",
   "metadata": {},
   "source": [
    "As we can see that a lot of the applicants are not verified which is not very good for the banks because they could turn out as defaulter. 22% is verified by the source and 27.8 is verified by the bank"
   ]
  },
  {
   "cell_type": "markdown",
   "metadata": {},
   "source": [
    "### Loan Status"
   ]
  },
  {
   "cell_type": "code",
   "execution_count": null,
   "metadata": {},
   "outputs": [],
   "source": [
    "loan_df = df2['loan_status'].value_counts().to_frame()\n",
    "loan_df.reset_index(inplace=True)\n",
    "loan_df.columns = ['loan_status', \"Count\"]\n"
   ]
  },
  {
   "cell_type": "code",
   "execution_count": null,
   "metadata": {},
   "outputs": [],
   "source": [
    "fig = px.bar(loan_df, x='loan_status', y = 'Count',  color_discrete_sequence=['pink'])\n",
    "fig.show()"
   ]
  },
  {
   "cell_type": "markdown",
   "metadata": {},
   "source": [
    "As we can see that huge percent of the applicants have paid off their loans and and around 500 off them are charged off/ defaulters"
   ]
  },
  {
   "cell_type": "markdown",
   "metadata": {},
   "source": [
    "### ZIP CODE"
   ]
  },
  {
   "cell_type": "code",
   "execution_count": null,
   "metadata": {},
   "outputs": [],
   "source": [
    "zip_code = df2['zip_code'].value_counts().to_frame()\n",
    "zip_code.reset_index(inplace=True)\n",
    "zip_code.columns = ['zip_code', 'count']"
   ]
  },
  {
   "cell_type": "code",
   "execution_count": null,
   "metadata": {},
   "outputs": [],
   "source": [
    "fig = px.bar(zip_code, x='zip_code', y = 'count',  color_discrete_sequence=['darkblue'])\n",
    "fig.show()"
   ]
  },
  {
   "cell_type": "markdown",
   "metadata": {},
   "source": [
    "We can see the distribution of the zip code. \n",
    "\n",
    "Zip code starting with 100 are highest at the value of 248 followed by zip code in 112\n",
    "\n"
   ]
  },
  {
   "cell_type": "markdown",
   "metadata": {},
   "source": [
    "### State of the applicant"
   ]
  },
  {
   "cell_type": "code",
   "execution_count": null,
   "metadata": {},
   "outputs": [],
   "source": [
    "state_df = df2['addr_state'].value_counts().to_frame()\n",
    "state_df.reset_index(inplace=True)\n",
    "state_df.columns = ['addr_state', 'count']\n",
    "fig = px.bar(state_df, x='addr_state', y = 'count',  color_discrete_sequence=['darkred'])\n",
    "fig.show()"
   ]
  },
  {
   "cell_type": "markdown",
   "metadata": {},
   "source": [
    "As we can see that majority of the applicants come from california which is one of the most expensive place to live in followed by New York.\n",
    "\n",
    "The place where least amount of loans were applied were from Mississippi where cost of living is low as well the income is the lowest\n"
   ]
  },
  {
   "cell_type": "markdown",
   "metadata": {},
   "source": [
    "### Month where the borrower's earliest report credit line was opened"
   ]
  },
  {
   "cell_type": "code",
   "execution_count": null,
   "metadata": {},
   "outputs": [],
   "source": [
    "earliest_credit_line = df2['earliest_cr_line_month'].value_counts().to_frame().reset_index()\n",
    "earliest_credit_line.columns = ['Month', 'Count']"
   ]
  },
  {
   "cell_type": "code",
   "execution_count": null,
   "metadata": {},
   "outputs": [],
   "source": [
    "fig = px.bar(earliest_credit_line, x='Month', y = 'Count',  color_discrete_sequence=['purple'])\n",
    "fig.show()"
   ]
  },
  {
   "cell_type": "markdown",
   "metadata": {},
   "source": [
    "Majority of the credit lines was opened in October followed by Nov and Dec\n",
    "which means majority of them are opened in the final quarter of the year probably because of the holiday seasons"
   ]
  },
  {
   "cell_type": "markdown",
   "metadata": {},
   "source": [
    "## SEGMENTED UNIVARIATE ANALYSIS"
   ]
  },
  {
   "attachments": {},
   "cell_type": "markdown",
   "metadata": {},
   "source": [
    "### pub_rec\n",
    "Number of public derogatory records"
   ]
  },
  {
   "cell_type": "code",
   "execution_count": null,
   "metadata": {},
   "outputs": [],
   "source": [
    "df2['pub_rec'].unique()"
   ]
  },
  {
   "cell_type": "code",
   "execution_count": null,
   "metadata": {},
   "outputs": [],
   "source": [
    "pub_rec_df = df2.groupby(['loan_status', 'pub_rec']).size()\n",
    "pub_rec_df = pub_rec_df.reset_index()\n",
    "pub_rec_df.columns = ['loan_status', 'pub_rec', 'counts']\n",
    "pub_rec_df"
   ]
  },
  {
   "cell_type": "code",
   "execution_count": null,
   "metadata": {},
   "outputs": [],
   "source": [
    "px.histogram(data_frame = pub_rec_df\n",
    "             ,x = 'pub_rec', y = 'counts'\n",
    "             ,color = 'loan_status')"
   ]
  },
  {
   "attachments": {},
   "cell_type": "markdown",
   "metadata": {},
   "source": [
    "Majority of the bank loans are given to people with 0  derogatory public records despite that a few people have defaulted.\n",
    "People with 1 derogatory public records have been given loans who have defaulted. \n"
   ]
  },
  {
   "attachments": {},
   "cell_type": "markdown",
   "metadata": {},
   "source": [
    "### pub_rec_bankruptcies"
   ]
  },
  {
   "cell_type": "code",
   "execution_count": null,
   "metadata": {},
   "outputs": [],
   "source": [
    "df2['pub_rec_bankruptcies'].unique()"
   ]
  },
  {
   "cell_type": "code",
   "execution_count": null,
   "metadata": {},
   "outputs": [],
   "source": [
    "pub_rec_b_df = df2.groupby(['loan_status', 'pub_rec_bankruptcies']).size()\n",
    "pub_rec_b_df = pub_rec_b_df.reset_index()\n",
    "pub_rec_b_df.columns = ['loan_status', 'pub_rec_bankruptcies', 'counts']\n",
    "pub_rec_b_df"
   ]
  },
  {
   "cell_type": "code",
   "execution_count": null,
   "metadata": {},
   "outputs": [],
   "source": [
    "total = []\n",
    "for r in pub_rec_b_df['pub_rec_bankruptcies'].unique():\n",
    "   t = pub_rec_b_df[pub_rec_b_df['pub_rec_bankruptcies']== r]['counts'].sum()\n",
    "   total.append(t)"
   ]
  },
  {
   "cell_type": "code",
   "execution_count": null,
   "metadata": {},
   "outputs": [],
   "source": [
    "total = total * 2"
   ]
  },
  {
   "cell_type": "code",
   "execution_count": null,
   "metadata": {},
   "outputs": [],
   "source": [
    "pub_rec_b_df['counts'] = pub_rec_b_df['counts']/ total"
   ]
  },
  {
   "cell_type": "code",
   "execution_count": null,
   "metadata": {},
   "outputs": [],
   "source": [
    "pub_rec_b_df"
   ]
  },
  {
   "cell_type": "code",
   "execution_count": null,
   "metadata": {},
   "outputs": [],
   "source": [
    "px.histogram(data_frame = pub_rec_b_df\n",
    "             ,x = 'pub_rec_bankruptcies', y = 'counts'\n",
    "             ,color = 'loan_status')"
   ]
  },
  {
   "attachments": {},
   "cell_type": "markdown",
   "metadata": {},
   "source": [
    "More the bankruptcies more the possbility of defaulting"
   ]
  },
  {
   "cell_type": "markdown",
   "metadata": {},
   "source": [
    "### Loan Amount"
   ]
  },
  {
   "cell_type": "markdown",
   "metadata": {},
   "source": [
    "Understanding the loan amount requested by people who defaulted/ charged off and fully paid"
   ]
  },
  {
   "cell_type": "code",
   "execution_count": null,
   "metadata": {},
   "outputs": [],
   "source": [
    "px.histogram(data_frame = df2\n",
    "             ,x = 'loan_amnt'\n",
    "             ,color = 'loan_status', marginal=\"box\",\n",
    "             )"
   ]
  },
  {
   "cell_type": "markdown",
   "metadata": {},
   "source": [
    "If you see distribution plot and the violin plot the loan amount is slightly higher for the defaulter than those who have fully paid off. The median of the full paid customers is 7200 and for defaulter it is 9000 usd. Loans applied for by the full paid people are on the lower end than those who defaulted. "
   ]
  },
  {
   "cell_type": "markdown",
   "metadata": {},
   "source": [
    "### Employee Length"
   ]
  },
  {
   "cell_type": "code",
   "execution_count": null,
   "metadata": {},
   "outputs": [],
   "source": [
    "df_emp_length = df2.groupby(by=[\"emp_length\", \"loan_status\"]).size().reset_index(name=\"counts\")\n",
    "px.bar(data_frame=df_emp_length, x=\"emp_length\", y=\"counts\", color=\"loan_status\", barmode=\"group\")"
   ]
  },
  {
   "cell_type": "code",
   "execution_count": null,
   "metadata": {},
   "outputs": [],
   "source": [
    "\n",
    "count_emp = df2.groupby(by=[\"emp_length\"]).size().reset_index(name=\"counts\")\n",
    "final_emp_df = pd.merge(df_emp_length, count_emp, on='emp_length', how=\"inner\")\n",
    "final_emp_df.columns = ['emp_length', 'loan_status', 'counts', 'total']\n"
   ]
  },
  {
   "cell_type": "code",
   "execution_count": null,
   "metadata": {},
   "outputs": [],
   "source": [
    "final_emp_df['counts'] = final_emp_df['counts']/ final_emp_df['total'] * 100"
   ]
  },
  {
   "cell_type": "code",
   "execution_count": null,
   "metadata": {},
   "outputs": [],
   "source": [
    "px.bar(data_frame=final_emp_df, x=\"emp_length\", y=\"counts\", color=\"loan_status\", barmode=\"group\")"
   ]
  },
  {
   "cell_type": "code",
   "execution_count": null,
   "metadata": {},
   "outputs": [],
   "source": [
    "final_emp_df[final_emp_df['loan_status'] == \"Charged Off\"].sort_values(\"counts\")"
   ]
  },
  {
   "cell_type": "markdown",
   "metadata": {},
   "source": [
    "1. People who are most likely to get the loan have more than 10 or 10+ years experience\n",
    "\n",
    "2. The maximum defaulters are in work experience 10 or 10 above bracket\n",
    "\n",
    "\n"
   ]
  },
  {
   "cell_type": "markdown",
   "metadata": {},
   "source": [
    "### Term"
   ]
  },
  {
   "cell_type": "code",
   "execution_count": null,
   "metadata": {},
   "outputs": [],
   "source": [
    "df_term = df2.groupby(by=[\"term\", \"loan_status\"]).size().reset_index(name=\"counts\")"
   ]
  },
  {
   "cell_type": "code",
   "execution_count": null,
   "metadata": {},
   "outputs": [],
   "source": [
    "px.bar(data_frame=df_term, x=\"term\", y=\"counts\", color=\"loan_status\", barmode=\"group\")"
   ]
  },
  {
   "cell_type": "markdown",
   "metadata": {},
   "source": [
    "The people who have fully paid off their loans prefer the 36 months term compared to 60 months but for the defaulters we can see that prefer 60 months time periods over 36 months"
   ]
  },
  {
   "cell_type": "markdown",
   "metadata": {},
   "source": [
    "### Interest Rate"
   ]
  },
  {
   "cell_type": "code",
   "execution_count": null,
   "metadata": {},
   "outputs": [],
   "source": [
    "hist_data = [df2[df2[\"loan_status\"] == \"Charged Off\"]['int_rate'].values, df2[df2[\"loan_status\"] == \"Fully Paid\"]['int_rate'].values]\n",
    "\n",
    "group_labels = ['Charged Off', 'Fully Paid']\n",
    "\n",
    "# Create distplot with custom bin_size\n",
    "fig = ff.create_distplot(hist_data, group_labels, bin_size=.2)\n",
    "fig.show()"
   ]
  },
  {
   "cell_type": "markdown",
   "metadata": {},
   "source": [
    "This is a distribution plot for interest rate and these are the following conclusions:\n",
    "\n",
    "1. The frequency of the rate of interest is high for people who have paid off their loans ie people who paid off their loans have cheaper rate of interest\n",
    "2. The interests almost intesects at 9% for both the categories and then it is overtaken for the charged off people after 11 %\n",
    "\n"
   ]
  },
  {
   "cell_type": "markdown",
   "metadata": {},
   "source": [
    "### Installements"
   ]
  },
  {
   "cell_type": "code",
   "execution_count": null,
   "metadata": {},
   "outputs": [],
   "source": [
    "fig = px.box(df2, x=\"loan_status\", y=\"installment\", points=\"all\")\n",
    "fig.show()"
   ]
  },
  {
   "cell_type": "markdown",
   "metadata": {},
   "source": [
    "The median installment to be paid by defaulters and those who have fully paid the loan is almost similar. The installment is slight on the higher end for the charged off customers."
   ]
  },
  {
   "cell_type": "markdown",
   "metadata": {},
   "source": [
    "### Grade and Subgrades"
   ]
  },
  {
   "cell_type": "code",
   "execution_count": null,
   "metadata": {},
   "outputs": [],
   "source": [
    "df_grade = df2.groupby(by=[\"grade\", \"loan_status\"]).size().reset_index(name=\"counts\")\n",
    "px.bar(data_frame=df_grade, x=\"grade\", y=\"counts\", color=\"loan_status\", barmode=\"group\")"
   ]
  },
  {
   "cell_type": "markdown",
   "metadata": {},
   "source": [
    "Inferences:\n",
    "\n",
    "1. For fully paid customers, the highest number of applications are for A type loan and it reduces in a fashionable manner - which means that there are few customers whose loans are risky. A being the least riskiest.\n",
    "\n",
    "2. For Charged off customers, Grade Type B seems to be the highest after which the number of applications per risk type keep reducing probably because those loans that looked too risky were not approved by the bank to begin with."
   ]
  },
  {
   "cell_type": "markdown",
   "metadata": {},
   "source": [
    "###  Home ownership"
   ]
  },
  {
   "cell_type": "code",
   "execution_count": null,
   "metadata": {},
   "outputs": [],
   "source": [
    "df_home = df2.groupby(by=[\"home_ownership\", \"loan_status\"]).size().reset_index(name=\"counts\")\n",
    "px.bar(data_frame=df_home, y=\"home_ownership\", x=\"counts\", color=\"loan_status\", barmode=\"group\")"
   ]
  },
  {
   "cell_type": "markdown",
   "metadata": {},
   "source": [
    "For Full paid customers\n",
    "Majority of the people live in rent homes followed by mortgaged homes and with few people living in their own homes. This could be the case probably because they invest their money in some other forms like stocks , rather than invest in real estate"
   ]
  },
  {
   "cell_type": "markdown",
   "metadata": {},
   "source": [
    "For Charged off customers: The home ownership status is the same"
   ]
  },
  {
   "cell_type": "markdown",
   "metadata": {},
   "source": [
    "### Annual Income"
   ]
  },
  {
   "cell_type": "code",
   "execution_count": null,
   "metadata": {},
   "outputs": [],
   "source": [
    "fig = px.box(df2, x=\"loan_status\", y=\"annual_inc\", points=\"all\", color_discrete_sequence=['purple'])\n",
    "fig.show()"
   ]
  },
  {
   "cell_type": "markdown",
   "metadata": {},
   "source": [
    "From the above plot we can see that annual income of the people who have fully paid off their loans is on the higher end comparared to the people who have been charged off."
   ]
  },
  {
   "cell_type": "markdown",
   "metadata": {},
   "source": [
    "### Verification Status"
   ]
  },
  {
   "cell_type": "code",
   "execution_count": null,
   "metadata": {},
   "outputs": [],
   "source": [
    "verification_status_grouped = pd.pivot_table(df2, index=['loan_status', 'verification_status'], values='loan_amnt', aggfunc=len)\n",
    "verification_status_grouped.columns = ['count']"
   ]
  },
  {
   "cell_type": "code",
   "execution_count": null,
   "metadata": {},
   "outputs": [],
   "source": [
    "\n",
    "verification_status_grouped.reset_index(inplace=True)"
   ]
  },
  {
   "cell_type": "code",
   "execution_count": null,
   "metadata": {},
   "outputs": [],
   "source": [
    "verification_status_grouped"
   ]
  },
  {
   "cell_type": "code",
   "execution_count": null,
   "metadata": {},
   "outputs": [],
   "source": [
    "fig = px.bar(verification_status_grouped, x=\"loan_status\", y=\"count\",\n",
    "             color='verification_status', barmode='group',\n",
    "             height=400)\n",
    "fig.update_layout(title=\"Comparision of verification status with respect to loan_status\")\n",
    "fig.show()"
   ]
  },
  {
   "cell_type": "markdown",
   "metadata": {},
   "source": [
    "We can see that lot of the loan applications are not verified for both fully paid and charged off which is a practice that could be changed. \n",
    "\n",
    "For fully paid loans the source verified is more than verified which is opposite for charged off."
   ]
  },
  {
   "cell_type": "markdown",
   "metadata": {},
   "source": [
    "### "
   ]
  },
  {
   "cell_type": "markdown",
   "metadata": {},
   "source": [
    "### Checking the zip code to see where the people who fully paid their loans and defaulters come from"
   ]
  },
  {
   "cell_type": "code",
   "execution_count": null,
   "metadata": {},
   "outputs": [],
   "source": [
    "zip_code_grouped = df2.groupby(['zip_code', 'loan_status'])['loan_amnt'].count()\n",
    "zip_code_grouped.columns = ['Count']"
   ]
  },
  {
   "cell_type": "code",
   "execution_count": null,
   "metadata": {},
   "outputs": [],
   "source": [
    "zip_code_grouped.head(20)"
   ]
  },
  {
   "cell_type": "markdown",
   "metadata": {},
   "source": [
    "Since there are so many zip codes lets just go with the first 20 records\n",
    "Not every zip code has both the categories charged off and fully paid"
   ]
  },
  {
   "cell_type": "markdown",
   "metadata": {},
   "source": [
    "### State of each of the types"
   ]
  },
  {
   "cell_type": "code",
   "execution_count": null,
   "metadata": {},
   "outputs": [],
   "source": [
    "df_home = df2.groupby(by=[\"addr_state\", \"loan_status\"]).size().reset_index(name=\"counts\")\n",
    "fig = px.bar(data_frame=df_home, y=\"addr_state\", x=\"counts\", color=\"loan_status\", barmode=\"group\", color_discrete_sequence=px.colors.sequential.Plasma)\n",
    "fig.update_layout(height=1000)\n",
    "fig.show()\n"
   ]
  },
  {
   "cell_type": "markdown",
   "metadata": {},
   "source": [
    "Majority of the loan applicants are from the californian region - both defaulted as well as full paid\n",
    "\n",
    "There are few states in which there are no defaulters at all probably because the loan was never sanctioned to them. \n",
    "\n",
    "The defaulters are mostly in the developed cities. Probably who are middle class and lower middle class in those cities\n"
   ]
  },
  {
   "cell_type": "markdown",
   "metadata": {},
   "source": [
    "### Inquiry in last 6 months"
   ]
  },
  {
   "cell_type": "code",
   "execution_count": null,
   "metadata": {},
   "outputs": [],
   "source": [
    "inquiry_grouped = df2.groupby(['loan_status'])['inq_last_6mths'].sum()\n",
    "inquiry_grouped = inquiry_grouped.to_frame()\n",
    "inquiry_grouped = inquiry_grouped.reset_index()"
   ]
  },
  {
   "cell_type": "code",
   "execution_count": null,
   "metadata": {},
   "outputs": [],
   "source": [
    "px.bar(inquiry_grouped, x=\"loan_status\", y=\"inq_last_6mths\")"
   ]
  },
  {
   "cell_type": "markdown",
   "metadata": {},
   "source": [
    "This graph is biased since the number of records for charged off applicants are low so we will do a ratio of inquries to the number of applicants"
   ]
  },
  {
   "cell_type": "markdown",
   "metadata": {},
   "source": []
  },
  {
   "cell_type": "code",
   "execution_count": null,
   "metadata": {},
   "outputs": [],
   "source": [
    "\n",
    "inquiry_grouped.at[0, \"inq_last_6mths\"] = float(inquiry_grouped[inquiry_grouped['loan_status'] == \"Charged Off\"]['inq_last_6mths'] / len(df2[df2['loan_status'] == \"Charged Off\"]))\n",
    "\n",
    "inquiry_grouped.at[1, \"inq_last_6mths\"] = float(inquiry_grouped[inquiry_grouped['loan_status'] == \"Fully Paid\"]['inq_last_6mths'] / len(df2[df2['loan_status'] == \"Fully Paid\"]))\n"
   ]
  },
  {
   "cell_type": "code",
   "execution_count": null,
   "metadata": {},
   "outputs": [],
   "source": [
    "px.bar(inquiry_grouped, x=\"loan_status\", y=\"inq_last_6mths\")"
   ]
  },
  {
   "cell_type": "markdown",
   "metadata": {},
   "source": [
    "When we check the ratio we see that the charged off people have had more inquries than people who paid off their loans\n"
   ]
  },
  {
   "cell_type": "markdown",
   "metadata": {},
   "source": [
    "### Open Credit Lines"
   ]
  },
  {
   "cell_type": "markdown",
   "metadata": {},
   "source": [
    "Checking the credit lines per customer"
   ]
  },
  {
   "cell_type": "code",
   "execution_count": null,
   "metadata": {},
   "outputs": [],
   "source": [
    "credit_line_grouped = df2.groupby(['loan_status'])['open_acc'].sum()\n",
    "credit_line_grouped = credit_line_grouped.to_frame()\n",
    "credit_line_grouped = credit_line_grouped.reset_index()\n",
    "\n",
    "credit_line_grouped.at[0, \"open_acc\"] = float(credit_line_grouped[credit_line_grouped['loan_status'] == \"Charged Off\"]['open_acc'] / len(df2[df2['loan_status'] == \"Charged Off\"]))\n",
    "\n",
    "credit_line_grouped.at[1, \"open_acc\"] = float(credit_line_grouped[credit_line_grouped['loan_status'] == \"Fully Paid\"]['open_acc'] / len(df2[df2['loan_status'] == \"Fully Paid\"]))\n",
    "px.bar(credit_line_grouped, x=\"loan_status\", y=\"open_acc\")"
   ]
  },
  {
   "cell_type": "markdown",
   "metadata": {},
   "source": [
    "Credit Line per customer is the comparable for both categories"
   ]
  },
  {
   "cell_type": "markdown",
   "metadata": {},
   "source": [
    "### Total Account"
   ]
  },
  {
   "cell_type": "code",
   "execution_count": null,
   "metadata": {},
   "outputs": [],
   "source": [
    "total_account_line_grouped = df2.groupby(['loan_status'])['total_acc'].sum()\n",
    "total_account_grouped = total_account_line_grouped.to_frame()\n",
    "total_account_grouped = total_account_grouped.reset_index()\n",
    "\n",
    "total_account_grouped.at[0, \"total_acc\"] = float(total_account_grouped[total_account_grouped['loan_status'] == \"Charged Off\"]['total_acc'] / len(df2[df2['loan_status'] == \"Charged Off\"]))\n",
    "\n",
    "total_account_grouped.at[1, \"total_acc\"] = float(total_account_grouped[total_account_grouped['loan_status'] == \"Fully Paid\"]['total_acc'] / len(df2[df2['loan_status'] == \"Fully Paid\"]))\n",
    "px.bar(total_account_grouped, x=\"loan_status\", y=\"total_acc\", color_discrete_sequence=['purple'])"
   ]
  },
  {
   "cell_type": "markdown",
   "metadata": {},
   "source": [
    "### Total Received Principal and Total Received Interest\n"
   ]
  },
  {
   "cell_type": "code",
   "execution_count": null,
   "metadata": {},
   "outputs": [],
   "source": [
    "total_prin_inr_grouped = df2.groupby(['loan_status'])['total_rec_prncp', 'total_rec_int'].mean()\n",
    "total_prin_inr_grouped = total_prin_inr_grouped.reset_index()"
   ]
  },
  {
   "cell_type": "code",
   "execution_count": null,
   "metadata": {},
   "outputs": [],
   "source": [
    "px.bar(total_prin_inr_grouped, x=\"loan_status\", y=[\"total_rec_prncp\", \"total_rec_int\"])"
   ]
  },
  {
   "cell_type": "markdown",
   "metadata": {},
   "source": [
    "In this graph we are comparing two column wrt to total_rec_prncp and total_rec_int\n",
    "\n",
    "Principal amount for the fully paid is higher than charged off by a significant amount but when you compare the interest rate they are very comparable. \n",
    "\n"
   ]
  },
  {
   "cell_type": "markdown",
   "metadata": {},
   "source": [
    "## BIVARIATE ANALYSIS"
   ]
  },
  {
   "cell_type": "markdown",
   "metadata": {},
   "source": [
    "### Understanding the corelation between numeric variables"
   ]
  },
  {
   "cell_type": "code",
   "execution_count": null,
   "metadata": {},
   "outputs": [],
   "source": [
    "numeric_cols = df2._get_numeric_data()\n",
    "corr = numeric_cols.corr()\n",
    "sns.set(rc={\"figure.figsize\":(40, 20)})\n",
    "cmap = sns.diverging_palette(230, 20, as_cmap=True)\n",
    "fig = sns.heatmap(corr, annot=True,cmap=cmap)"
   ]
  },
  {
   "cell_type": "markdown",
   "metadata": {},
   "source": [
    "Inferences from the above plot:\n",
    "1. Loan amount has high correlation with total_payment, total_payment_inv and total_rec_prncp, funded_amount and funded_amt_inv.\n",
    "\n",
    "2. Funded amount has high correlation with total_payment, total_payemnt_inv, total_rec_prncp, loan_amt and funded_amt_inv\n",
    "\n",
    "\n",
    "2. Installments has high correlation with total_payment, total_payment_inv and total_rec_prncp, funded_amt and funded_amt_inv\n"
   ]
  },
  {
   "cell_type": "markdown",
   "metadata": {},
   "source": [
    "### Understanding the relation between the loan amount and total installments"
   ]
  },
  {
   "cell_type": "code",
   "execution_count": null,
   "metadata": {},
   "outputs": [],
   "source": [
    "fig = px.scatter(df2, x=\"loan_amnt\", y=\"installment\", color=\"loan_status\")\n",
    "fig.show()\n"
   ]
  },
  {
   "cell_type": "markdown",
   "metadata": {},
   "source": [
    "The pattern followed by both the loan status are very similar except for some points where despite the loan amount being high the installement given is very low and yet they manage to pay off the loan.\n",
    "\n",
    "The installement paid by the defaulters is relatively on the higher side compared to the people who have paid off their loan probably because they were paying off the default money\n"
   ]
  },
  {
   "cell_type": "markdown",
   "metadata": {},
   "source": [
    "### Understanding the term and the interest rate relation for different types of customer"
   ]
  },
  {
   "cell_type": "code",
   "execution_count": null,
   "metadata": {},
   "outputs": [],
   "source": [
    "fig = px.violin(df2, x=\"term\", y=\"int_rate\", color=\"loan_status\")\n",
    "fig.show()"
   ]
  },
  {
   "cell_type": "markdown",
   "metadata": {},
   "source": [
    "For customers in 36 months term loan, we can see that the interest rate for the majority fully paid is in the range of 5 to 10 where as for defaulters it is in the range of 10 to 15\n",
    "\n",
    "For customers in the term of 60 momths the interest rate for fully paid off people is higher compared to 36 months and is slightly lower to defaulters (majority) in the 60 months category"
   ]
  },
  {
   "cell_type": "markdown",
   "metadata": {},
   "source": [
    "### Understanding the relationship between home ownership and the rate of interest"
   ]
  },
  {
   "cell_type": "code",
   "execution_count": null,
   "metadata": {},
   "outputs": [],
   "source": [
    "fig = px.box(df2, x=\"home_ownership\", y=\"int_rate\", color=\"loan_status\")\n",
    "fig.show()"
   ]
  },
  {
   "cell_type": "markdown",
   "metadata": {},
   "source": [
    "For fully paid off people, the interest rate is higher for Other category followed by rent, own and mortgage being the lowest\n",
    "\n",
    "For charged off customers, the interest rate is higher in their category but it is the lowest for other, people who own the houses followed by mortgage and then rent. "
   ]
  },
  {
   "cell_type": "markdown",
   "metadata": {},
   "source": [
    "### Understanding the relationship between interest rate and inquiry"
   ]
  },
  {
   "cell_type": "code",
   "execution_count": null,
   "metadata": {},
   "outputs": [],
   "source": [
    "fig = px.histogram(df2, x=\"int_rate\", y=\"inq_last_6mths\", color=\"loan_status\")\n",
    "fig.show()"
   ]
  },
  {
   "cell_type": "markdown",
   "metadata": {},
   "source": [
    "### Understanding the relationship between loan amount and grade"
   ]
  },
  {
   "cell_type": "code",
   "execution_count": null,
   "metadata": {},
   "outputs": [],
   "source": [
    "fig = px.violin(df2, x=\"grade\", y=\"loan_amnt\", color=\"loan_status\", color_discrete_sequence=px.colors.sequential.Plasma)\n",
    "fig.show()"
   ]
  },
  {
   "cell_type": "markdown",
   "metadata": {},
   "source": [
    "For charged off loans, Grade C has the maximum range of the loan amount . In grade F , majority of the loan applicants in the upper range of the violin plot unlike G which is distributed through out. \n",
    "\n",
    "For fully paid loans: the max range goes to 28k but it is still categorized in A. For the same value for charged off person, it is present in Category C. "
   ]
  },
  {
   "cell_type": "markdown",
   "metadata": {},
   "source": [
    "### Understanding the relationship between home ownership and loan amount"
   ]
  },
  {
   "cell_type": "code",
   "execution_count": null,
   "metadata": {},
   "outputs": [],
   "source": [
    "owner_loan=pd.pivot_table(df2, index=['home_ownership'], values=['loan_amnt'], aggfunc='mean')\n",
    "owner_loan = owner_loan.reset_index()"
   ]
  },
  {
   "cell_type": "code",
   "execution_count": null,
   "metadata": {},
   "outputs": [],
   "source": [
    "px.bar(owner_loan, x=\"home_ownership\", y=\"loan_amnt\", color_discrete_sequence=['orange'])"
   ]
  },
  {
   "cell_type": "markdown",
   "metadata": {},
   "source": [
    "People who either had a mortgage or were in other category had higher loans in compared to people with own homes and rent.\n",
    "\n",
    "People with own homes have more stability and are financial well off hence the loans could be lower. "
   ]
  },
  {
   "cell_type": "markdown",
   "metadata": {},
   "source": [
    "## INFERENCES"
   ]
  },
  {
   "attachments": {},
   "cell_type": "markdown",
   "metadata": {},
   "source": [
    "Plot wise inferences are mentioned along with the visualization.\n",
    "Following are the metrics the bank should look out for to identify a defaulter:\n",
    "1. Loan Amount: People who default have a relatively higher loan amount compared to those who fully pay off their loans\n",
    "2. Employee Length: The bank approves loan easily for the people who have 10 or more than 10 years of experience but they also tend to be huge defaulters. The next highest number of defaulters are the people with less than 1 years of experience.\n",
    "3. Term: People who default tend to take loans on 60 months than 36 months\n",
    "4. Interest rate: People with higher rate of interest are more likely to be defaulters.\n",
    "5. Grade: For fully paid customers, the highest number of applications are for A type loan and it reduces in a fashionable manner - which means that there are few customers whose loans are risky. A being the least riskiest.For Charged off customers, Grade Type B seems to be the highest after which the number of applications per risk type keep reducing probably because those loans that looked too risky were not approved by the bank to begin with.\n",
    "6. Home ownership: People who own houses have more stability and the defaulters in this case are lower.\n",
    "7. Inquiry in Last 6 months: People who have had large number of inquries are more likely to default\n",
    "8. Open Credit Lines: Charged off people tend to have more open credit lines. \n"
   ]
  },
  {
   "cell_type": "code",
   "execution_count": null,
   "metadata": {},
   "outputs": [],
   "source": []
  }
 ],
 "metadata": {
  "kernelspec": {
   "display_name": "base",
   "language": "python",
   "name": "python3"
  },
  "language_info": {
   "codemirror_mode": {
    "name": "ipython",
    "version": 3
   },
   "file_extension": ".py",
   "mimetype": "text/x-python",
   "name": "python",
   "nbconvert_exporter": "python",
   "pygments_lexer": "ipython3",
   "version": "3.9.13"
  },
  "orig_nbformat": 4,
  "vscode": {
   "interpreter": {
    "hash": "90d6dcaba78b1f2941cc5f629a29b153f6acd7f1ddaafbad2e1e1c0743d9f70e"
   }
  }
 },
 "nbformat": 4,
 "nbformat_minor": 2
}
